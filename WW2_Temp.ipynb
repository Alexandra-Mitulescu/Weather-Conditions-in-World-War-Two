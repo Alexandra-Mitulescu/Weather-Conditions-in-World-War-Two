{
  "cells": [
    {
      "cell_type": "code",
      "execution_count": null,
      "metadata": {
        "id": "Cmw5PWiMQQ2n"
      },
      "outputs": [],
      "source": [
        "from google.colab import drive\n",
        "from google.colab.patches import cv2_imshow\n",
        "import zipfile\n",
        "import os\n",
        "\n",
        "import torch\n",
        "import torchvision\n",
        "import torch.nn as nn\n",
        "import pandas as pd\n",
        "import seaborn as sns\n",
        "\n",
        "\n",
        "import numpy as np\n",
        "import matplotlib.pyplot as plt\n",
        "import torch.nn.functional as F\n",
        "from torchvision.datasets.utils import download_url\n",
        "from torch.utils.data import DataLoader, TensorDataset, random_split"
      ]
    },
    {
      "cell_type": "code",
      "execution_count": null,
      "metadata": {
        "colab": {
          "base_uri": "https://localhost:8080/"
        },
        "id": "ARNTm5AtQfy6",
        "outputId": "ca5422b4-961c-4e19-863b-02aec9a088b2"
      },
      "outputs": [
        {
          "name": "stdout",
          "output_type": "stream",
          "text": [
            "Mounted at /content/drive\n"
          ]
        }
      ],
      "source": [
        "drive.mount('/content/drive')"
      ]
    },
    {
      "cell_type": "code",
      "execution_count": null,
      "metadata": {
        "id": "NQC4U0fPQf1x"
      },
      "outputs": [],
      "source": [
        "zip_ref = zipfile.ZipFile('/content/drive/MyDrive/DS/Summary of Weather.csv.zip')\n",
        "zip_ref.extractall('/tmp')\n",
        "zip_ref.close()"
      ]
    },
    {
      "cell_type": "code",
      "execution_count": null,
      "metadata": {
        "colab": {
          "base_uri": "https://localhost:8080/"
        },
        "id": "J1XdzdE2Qf40",
        "outputId": "413f4ed4-1776-4e71-8163-7266501a54f2"
      },
      "outputs": [
        {
          "name": "stderr",
          "output_type": "stream",
          "text": [
            "/usr/local/lib/python3.8/dist-packages/IPython/core/interactiveshell.py:3326: DtypeWarning: Columns (7,8,18,25) have mixed types.Specify dtype option on import or set low_memory=False.\n",
            "  exec(code_obj, self.user_global_ns, self.user_ns)\n"
          ]
        }
      ],
      "source": [
        "df = pd.read_csv('/tmp/Summary of Weather.csv')"
      ]
    },
    {
      "cell_type": "code",
      "execution_count": null,
      "metadata": {
        "colab": {
          "base_uri": "https://localhost:8080/",
          "height": 423
        },
        "id": "PiJ_S9qWQf7O",
        "outputId": "8ed1cae0-eca9-4fea-f963-4842a7e227ee"
      },
      "outputs": [
        {
          "data": {
            "text/html": [
              "\n",
              "  <div id=\"df-5bf01bde-3585-44cf-8e12-d0978104cbf9\">\n",
              "    <div class=\"colab-df-container\">\n",
              "      <div>\n",
              "<style scoped>\n",
              "    .dataframe tbody tr th:only-of-type {\n",
              "        vertical-align: middle;\n",
              "    }\n",
              "\n",
              "    .dataframe tbody tr th {\n",
              "        vertical-align: top;\n",
              "    }\n",
              "\n",
              "    .dataframe thead th {\n",
              "        text-align: right;\n",
              "    }\n",
              "</style>\n",
              "<table border=\"1\" class=\"dataframe\">\n",
              "  <thead>\n",
              "    <tr style=\"text-align: right;\">\n",
              "      <th></th>\n",
              "      <th>STA</th>\n",
              "      <th>Date</th>\n",
              "      <th>Precip</th>\n",
              "      <th>WindGustSpd</th>\n",
              "      <th>MaxTemp</th>\n",
              "      <th>MinTemp</th>\n",
              "      <th>MeanTemp</th>\n",
              "      <th>Snowfall</th>\n",
              "      <th>PoorWeather</th>\n",
              "      <th>YR</th>\n",
              "      <th>...</th>\n",
              "      <th>FB</th>\n",
              "      <th>FTI</th>\n",
              "      <th>ITH</th>\n",
              "      <th>PGT</th>\n",
              "      <th>TSHDSBRSGF</th>\n",
              "      <th>SD3</th>\n",
              "      <th>RHX</th>\n",
              "      <th>RHN</th>\n",
              "      <th>RVG</th>\n",
              "      <th>WTE</th>\n",
              "    </tr>\n",
              "  </thead>\n",
              "  <tbody>\n",
              "    <tr>\n",
              "      <th>0</th>\n",
              "      <td>10001</td>\n",
              "      <td>1942-7-1</td>\n",
              "      <td>1.016</td>\n",
              "      <td>NaN</td>\n",
              "      <td>25.555556</td>\n",
              "      <td>22.222222</td>\n",
              "      <td>23.888889</td>\n",
              "      <td>0.0</td>\n",
              "      <td>NaN</td>\n",
              "      <td>42</td>\n",
              "      <td>...</td>\n",
              "      <td>NaN</td>\n",
              "      <td>NaN</td>\n",
              "      <td>NaN</td>\n",
              "      <td>NaN</td>\n",
              "      <td>NaN</td>\n",
              "      <td>NaN</td>\n",
              "      <td>NaN</td>\n",
              "      <td>NaN</td>\n",
              "      <td>NaN</td>\n",
              "      <td>NaN</td>\n",
              "    </tr>\n",
              "    <tr>\n",
              "      <th>1</th>\n",
              "      <td>10001</td>\n",
              "      <td>1942-7-2</td>\n",
              "      <td>0</td>\n",
              "      <td>NaN</td>\n",
              "      <td>28.888889</td>\n",
              "      <td>21.666667</td>\n",
              "      <td>25.555556</td>\n",
              "      <td>0.0</td>\n",
              "      <td>NaN</td>\n",
              "      <td>42</td>\n",
              "      <td>...</td>\n",
              "      <td>NaN</td>\n",
              "      <td>NaN</td>\n",
              "      <td>NaN</td>\n",
              "      <td>NaN</td>\n",
              "      <td>NaN</td>\n",
              "      <td>NaN</td>\n",
              "      <td>NaN</td>\n",
              "      <td>NaN</td>\n",
              "      <td>NaN</td>\n",
              "      <td>NaN</td>\n",
              "    </tr>\n",
              "    <tr>\n",
              "      <th>2</th>\n",
              "      <td>10001</td>\n",
              "      <td>1942-7-3</td>\n",
              "      <td>2.54</td>\n",
              "      <td>NaN</td>\n",
              "      <td>26.111111</td>\n",
              "      <td>22.222222</td>\n",
              "      <td>24.444444</td>\n",
              "      <td>0.0</td>\n",
              "      <td>NaN</td>\n",
              "      <td>42</td>\n",
              "      <td>...</td>\n",
              "      <td>NaN</td>\n",
              "      <td>NaN</td>\n",
              "      <td>NaN</td>\n",
              "      <td>NaN</td>\n",
              "      <td>NaN</td>\n",
              "      <td>NaN</td>\n",
              "      <td>NaN</td>\n",
              "      <td>NaN</td>\n",
              "      <td>NaN</td>\n",
              "      <td>NaN</td>\n",
              "    </tr>\n",
              "    <tr>\n",
              "      <th>3</th>\n",
              "      <td>10001</td>\n",
              "      <td>1942-7-4</td>\n",
              "      <td>2.54</td>\n",
              "      <td>NaN</td>\n",
              "      <td>26.666667</td>\n",
              "      <td>22.222222</td>\n",
              "      <td>24.444444</td>\n",
              "      <td>0.0</td>\n",
              "      <td>NaN</td>\n",
              "      <td>42</td>\n",
              "      <td>...</td>\n",
              "      <td>NaN</td>\n",
              "      <td>NaN</td>\n",
              "      <td>NaN</td>\n",
              "      <td>NaN</td>\n",
              "      <td>NaN</td>\n",
              "      <td>NaN</td>\n",
              "      <td>NaN</td>\n",
              "      <td>NaN</td>\n",
              "      <td>NaN</td>\n",
              "      <td>NaN</td>\n",
              "    </tr>\n",
              "    <tr>\n",
              "      <th>4</th>\n",
              "      <td>10001</td>\n",
              "      <td>1942-7-5</td>\n",
              "      <td>0</td>\n",
              "      <td>NaN</td>\n",
              "      <td>26.666667</td>\n",
              "      <td>21.666667</td>\n",
              "      <td>24.444444</td>\n",
              "      <td>0.0</td>\n",
              "      <td>NaN</td>\n",
              "      <td>42</td>\n",
              "      <td>...</td>\n",
              "      <td>NaN</td>\n",
              "      <td>NaN</td>\n",
              "      <td>NaN</td>\n",
              "      <td>NaN</td>\n",
              "      <td>NaN</td>\n",
              "      <td>NaN</td>\n",
              "      <td>NaN</td>\n",
              "      <td>NaN</td>\n",
              "      <td>NaN</td>\n",
              "      <td>NaN</td>\n",
              "    </tr>\n",
              "    <tr>\n",
              "      <th>...</th>\n",
              "      <td>...</td>\n",
              "      <td>...</td>\n",
              "      <td>...</td>\n",
              "      <td>...</td>\n",
              "      <td>...</td>\n",
              "      <td>...</td>\n",
              "      <td>...</td>\n",
              "      <td>...</td>\n",
              "      <td>...</td>\n",
              "      <td>...</td>\n",
              "      <td>...</td>\n",
              "      <td>...</td>\n",
              "      <td>...</td>\n",
              "      <td>...</td>\n",
              "      <td>...</td>\n",
              "      <td>...</td>\n",
              "      <td>...</td>\n",
              "      <td>...</td>\n",
              "      <td>...</td>\n",
              "      <td>...</td>\n",
              "      <td>...</td>\n",
              "    </tr>\n",
              "    <tr>\n",
              "      <th>119035</th>\n",
              "      <td>82506</td>\n",
              "      <td>1945-12-27</td>\n",
              "      <td>0</td>\n",
              "      <td>NaN</td>\n",
              "      <td>28.333333</td>\n",
              "      <td>18.333333</td>\n",
              "      <td>23.333333</td>\n",
              "      <td>0.0</td>\n",
              "      <td>NaN</td>\n",
              "      <td>45</td>\n",
              "      <td>...</td>\n",
              "      <td>NaN</td>\n",
              "      <td>NaN</td>\n",
              "      <td>NaN</td>\n",
              "      <td>NaN</td>\n",
              "      <td>NaN</td>\n",
              "      <td>NaN</td>\n",
              "      <td>NaN</td>\n",
              "      <td>NaN</td>\n",
              "      <td>NaN</td>\n",
              "      <td>NaN</td>\n",
              "    </tr>\n",
              "    <tr>\n",
              "      <th>119036</th>\n",
              "      <td>82506</td>\n",
              "      <td>1945-12-28</td>\n",
              "      <td>9.906</td>\n",
              "      <td>NaN</td>\n",
              "      <td>29.444444</td>\n",
              "      <td>18.333333</td>\n",
              "      <td>23.888889</td>\n",
              "      <td>0.0</td>\n",
              "      <td>1.0</td>\n",
              "      <td>45</td>\n",
              "      <td>...</td>\n",
              "      <td>NaN</td>\n",
              "      <td>NaN</td>\n",
              "      <td>NaN</td>\n",
              "      <td>NaN</td>\n",
              "      <td>1.0</td>\n",
              "      <td>NaN</td>\n",
              "      <td>NaN</td>\n",
              "      <td>NaN</td>\n",
              "      <td>NaN</td>\n",
              "      <td>NaN</td>\n",
              "    </tr>\n",
              "    <tr>\n",
              "      <th>119037</th>\n",
              "      <td>82506</td>\n",
              "      <td>1945-12-29</td>\n",
              "      <td>0</td>\n",
              "      <td>NaN</td>\n",
              "      <td>28.333333</td>\n",
              "      <td>18.333333</td>\n",
              "      <td>23.333333</td>\n",
              "      <td>0.0</td>\n",
              "      <td>1.0</td>\n",
              "      <td>45</td>\n",
              "      <td>...</td>\n",
              "      <td>NaN</td>\n",
              "      <td>NaN</td>\n",
              "      <td>NaN</td>\n",
              "      <td>NaN</td>\n",
              "      <td>1.0</td>\n",
              "      <td>NaN</td>\n",
              "      <td>NaN</td>\n",
              "      <td>NaN</td>\n",
              "      <td>NaN</td>\n",
              "      <td>NaN</td>\n",
              "    </tr>\n",
              "    <tr>\n",
              "      <th>119038</th>\n",
              "      <td>82506</td>\n",
              "      <td>1945-12-30</td>\n",
              "      <td>0</td>\n",
              "      <td>NaN</td>\n",
              "      <td>28.333333</td>\n",
              "      <td>18.333333</td>\n",
              "      <td>23.333333</td>\n",
              "      <td>0.0</td>\n",
              "      <td>NaN</td>\n",
              "      <td>45</td>\n",
              "      <td>...</td>\n",
              "      <td>NaN</td>\n",
              "      <td>NaN</td>\n",
              "      <td>NaN</td>\n",
              "      <td>NaN</td>\n",
              "      <td>NaN</td>\n",
              "      <td>NaN</td>\n",
              "      <td>NaN</td>\n",
              "      <td>NaN</td>\n",
              "      <td>NaN</td>\n",
              "      <td>NaN</td>\n",
              "    </tr>\n",
              "    <tr>\n",
              "      <th>119039</th>\n",
              "      <td>82506</td>\n",
              "      <td>1945-12-31</td>\n",
              "      <td>0</td>\n",
              "      <td>NaN</td>\n",
              "      <td>29.444444</td>\n",
              "      <td>17.222222</td>\n",
              "      <td>23.333333</td>\n",
              "      <td>0.0</td>\n",
              "      <td>NaN</td>\n",
              "      <td>45</td>\n",
              "      <td>...</td>\n",
              "      <td>NaN</td>\n",
              "      <td>NaN</td>\n",
              "      <td>NaN</td>\n",
              "      <td>NaN</td>\n",
              "      <td>NaN</td>\n",
              "      <td>NaN</td>\n",
              "      <td>NaN</td>\n",
              "      <td>NaN</td>\n",
              "      <td>NaN</td>\n",
              "      <td>NaN</td>\n",
              "    </tr>\n",
              "  </tbody>\n",
              "</table>\n",
              "<p>119040 rows × 31 columns</p>\n",
              "</div>\n",
              "      <button class=\"colab-df-convert\" onclick=\"convertToInteractive('df-5bf01bde-3585-44cf-8e12-d0978104cbf9')\"\n",
              "              title=\"Convert this dataframe to an interactive table.\"\n",
              "              style=\"display:none;\">\n",
              "        \n",
              "  <svg xmlns=\"http://www.w3.org/2000/svg\" height=\"24px\"viewBox=\"0 0 24 24\"\n",
              "       width=\"24px\">\n",
              "    <path d=\"M0 0h24v24H0V0z\" fill=\"none\"/>\n",
              "    <path d=\"M18.56 5.44l.94 2.06.94-2.06 2.06-.94-2.06-.94-.94-2.06-.94 2.06-2.06.94zm-11 1L8.5 8.5l.94-2.06 2.06-.94-2.06-.94L8.5 2.5l-.94 2.06-2.06.94zm10 10l.94 2.06.94-2.06 2.06-.94-2.06-.94-.94-2.06-.94 2.06-2.06.94z\"/><path d=\"M17.41 7.96l-1.37-1.37c-.4-.4-.92-.59-1.43-.59-.52 0-1.04.2-1.43.59L10.3 9.45l-7.72 7.72c-.78.78-.78 2.05 0 2.83L4 21.41c.39.39.9.59 1.41.59.51 0 1.02-.2 1.41-.59l7.78-7.78 2.81-2.81c.8-.78.8-2.07 0-2.86zM5.41 20L4 18.59l7.72-7.72 1.47 1.35L5.41 20z\"/>\n",
              "  </svg>\n",
              "      </button>\n",
              "      \n",
              "  <style>\n",
              "    .colab-df-container {\n",
              "      display:flex;\n",
              "      flex-wrap:wrap;\n",
              "      gap: 12px;\n",
              "    }\n",
              "\n",
              "    .colab-df-convert {\n",
              "      background-color: #E8F0FE;\n",
              "      border: none;\n",
              "      border-radius: 50%;\n",
              "      cursor: pointer;\n",
              "      display: none;\n",
              "      fill: #1967D2;\n",
              "      height: 32px;\n",
              "      padding: 0 0 0 0;\n",
              "      width: 32px;\n",
              "    }\n",
              "\n",
              "    .colab-df-convert:hover {\n",
              "      background-color: #E2EBFA;\n",
              "      box-shadow: 0px 1px 2px rgba(60, 64, 67, 0.3), 0px 1px 3px 1px rgba(60, 64, 67, 0.15);\n",
              "      fill: #174EA6;\n",
              "    }\n",
              "\n",
              "    [theme=dark] .colab-df-convert {\n",
              "      background-color: #3B4455;\n",
              "      fill: #D2E3FC;\n",
              "    }\n",
              "\n",
              "    [theme=dark] .colab-df-convert:hover {\n",
              "      background-color: #434B5C;\n",
              "      box-shadow: 0px 1px 3px 1px rgba(0, 0, 0, 0.15);\n",
              "      filter: drop-shadow(0px 1px 2px rgba(0, 0, 0, 0.3));\n",
              "      fill: #FFFFFF;\n",
              "    }\n",
              "  </style>\n",
              "\n",
              "      <script>\n",
              "        const buttonEl =\n",
              "          document.querySelector('#df-5bf01bde-3585-44cf-8e12-d0978104cbf9 button.colab-df-convert');\n",
              "        buttonEl.style.display =\n",
              "          google.colab.kernel.accessAllowed ? 'block' : 'none';\n",
              "\n",
              "        async function convertToInteractive(key) {\n",
              "          const element = document.querySelector('#df-5bf01bde-3585-44cf-8e12-d0978104cbf9');\n",
              "          const dataTable =\n",
              "            await google.colab.kernel.invokeFunction('convertToInteractive',\n",
              "                                                     [key], {});\n",
              "          if (!dataTable) return;\n",
              "\n",
              "          const docLinkHtml = 'Like what you see? Visit the ' +\n",
              "            '<a target=\"_blank\" href=https://colab.research.google.com/notebooks/data_table.ipynb>data table notebook</a>'\n",
              "            + ' to learn more about interactive tables.';\n",
              "          element.innerHTML = '';\n",
              "          dataTable['output_type'] = 'display_data';\n",
              "          await google.colab.output.renderOutput(dataTable, element);\n",
              "          const docLink = document.createElement('div');\n",
              "          docLink.innerHTML = docLinkHtml;\n",
              "          element.appendChild(docLink);\n",
              "        }\n",
              "      </script>\n",
              "    </div>\n",
              "  </div>\n",
              "  "
            ],
            "text/plain": [
              "          STA        Date Precip  WindGustSpd    MaxTemp    MinTemp  \\\n",
              "0       10001    1942-7-1  1.016          NaN  25.555556  22.222222   \n",
              "1       10001    1942-7-2      0          NaN  28.888889  21.666667   \n",
              "2       10001    1942-7-3   2.54          NaN  26.111111  22.222222   \n",
              "3       10001    1942-7-4   2.54          NaN  26.666667  22.222222   \n",
              "4       10001    1942-7-5      0          NaN  26.666667  21.666667   \n",
              "...       ...         ...    ...          ...        ...        ...   \n",
              "119035  82506  1945-12-27      0          NaN  28.333333  18.333333   \n",
              "119036  82506  1945-12-28  9.906          NaN  29.444444  18.333333   \n",
              "119037  82506  1945-12-29      0          NaN  28.333333  18.333333   \n",
              "119038  82506  1945-12-30      0          NaN  28.333333  18.333333   \n",
              "119039  82506  1945-12-31      0          NaN  29.444444  17.222222   \n",
              "\n",
              "         MeanTemp Snowfall PoorWeather  YR  ...  FB  FTI ITH  PGT  TSHDSBRSGF  \\\n",
              "0       23.888889      0.0         NaN  42  ... NaN  NaN NaN  NaN         NaN   \n",
              "1       25.555556      0.0         NaN  42  ... NaN  NaN NaN  NaN         NaN   \n",
              "2       24.444444      0.0         NaN  42  ... NaN  NaN NaN  NaN         NaN   \n",
              "3       24.444444      0.0         NaN  42  ... NaN  NaN NaN  NaN         NaN   \n",
              "4       24.444444      0.0         NaN  42  ... NaN  NaN NaN  NaN         NaN   \n",
              "...           ...      ...         ...  ..  ...  ..  ...  ..  ...         ...   \n",
              "119035  23.333333      0.0         NaN  45  ... NaN  NaN NaN  NaN         NaN   \n",
              "119036  23.888889      0.0         1.0  45  ... NaN  NaN NaN  NaN         1.0   \n",
              "119037  23.333333      0.0         1.0  45  ... NaN  NaN NaN  NaN         1.0   \n",
              "119038  23.333333      0.0         NaN  45  ... NaN  NaN NaN  NaN         NaN   \n",
              "119039  23.333333      0.0         NaN  45  ... NaN  NaN NaN  NaN         NaN   \n",
              "\n",
              "        SD3  RHX  RHN RVG  WTE  \n",
              "0       NaN  NaN  NaN NaN  NaN  \n",
              "1       NaN  NaN  NaN NaN  NaN  \n",
              "2       NaN  NaN  NaN NaN  NaN  \n",
              "3       NaN  NaN  NaN NaN  NaN  \n",
              "4       NaN  NaN  NaN NaN  NaN  \n",
              "...     ...  ...  ...  ..  ...  \n",
              "119035  NaN  NaN  NaN NaN  NaN  \n",
              "119036  NaN  NaN  NaN NaN  NaN  \n",
              "119037  NaN  NaN  NaN NaN  NaN  \n",
              "119038  NaN  NaN  NaN NaN  NaN  \n",
              "119039  NaN  NaN  NaN NaN  NaN  \n",
              "\n",
              "[119040 rows x 31 columns]"
            ]
          },
          "execution_count": 5,
          "metadata": {},
          "output_type": "execute_result"
        }
      ],
      "source": [
        "df"
      ]
    },
    {
      "cell_type": "code",
      "execution_count": null,
      "metadata": {
        "colab": {
          "base_uri": "https://localhost:8080/"
        },
        "id": "mZQ5B12oQf-I",
        "outputId": "d9baddf8-bad5-47b4-8f1f-b77d0559730e"
      },
      "outputs": [
        {
          "name": "stdout",
          "output_type": "stream",
          "text": [
            "Number of rows:  119040\n",
            "Number of columns:  31\n"
          ]
        }
      ],
      "source": [
        "rows = df.index\n",
        "num_rows = len(rows)\n",
        "print(\"Number of rows: \", num_rows)\n",
        "\n",
        "columns = df.columns\n",
        "num_cols = len(columns)\n",
        "print(\"Number of columns: \", num_cols)"
      ]
    },
    {
      "cell_type": "code",
      "execution_count": null,
      "metadata": {
        "id": "CxEQry-rthu8"
      },
      "outputs": [],
      "source": [
        "new_features = ['Precip',\t'MaxTemp',\t'MinTemp',\t'MeanTemp',\t'Snowfall',\t'PoorWeather']"
      ]
    },
    {
      "cell_type": "code",
      "execution_count": null,
      "metadata": {
        "id": "jz672HEquHkH"
      },
      "outputs": [],
      "source": [
        "df = df[new_features]"
      ]
    },
    {
      "cell_type": "code",
      "execution_count": null,
      "metadata": {
        "colab": {
          "base_uri": "https://localhost:8080/",
          "height": 860
        },
        "id": "TOO39iaQuNgO",
        "outputId": "2703c597-ce2a-4da7-d221-49ce757ee682"
      },
      "outputs": [
        {
          "name": "stderr",
          "output_type": "stream",
          "text": [
            "<ipython-input-9-836dd0fd4201>:3: SettingWithCopyWarning: \n",
            "A value is trying to be set on a copy of a slice from a DataFrame.\n",
            "Try using .loc[row_indexer,col_indexer] = value instead\n",
            "\n",
            "See the caveats in the documentation: https://pandas.pydata.org/pandas-docs/stable/user_guide/indexing.html#returning-a-view-versus-a-copy\n",
            "  df[col] = df[col].replace(['T','#VALUE!'],0)\n",
            "<ipython-input-9-836dd0fd4201>:4: SettingWithCopyWarning: \n",
            "A value is trying to be set on a copy of a slice from a DataFrame.\n",
            "Try using .loc[row_indexer,col_indexer] = value instead\n",
            "\n",
            "See the caveats in the documentation: https://pandas.pydata.org/pandas-docs/stable/user_guide/indexing.html#returning-a-view-versus-a-copy\n",
            "  df[col] = df[col].replace(['1   1','1   1 1  1','1 0','1 0  1','1 1  1','11    1','11 1','1     0','1    1','1   1 1','1     1','1 1','1     1  1','1  1','1        1','1        1'],1)\n",
            "<ipython-input-9-836dd0fd4201>:5: SettingWithCopyWarning: \n",
            "A value is trying to be set on a copy of a slice from a DataFrame.\n",
            "Try using .loc[row_indexer,col_indexer] = value instead\n",
            "\n",
            "See the caveats in the documentation: https://pandas.pydata.org/pandas-docs/stable/user_guide/indexing.html#returning-a-view-versus-a-copy\n",
            "  df[col] = df[col].fillna(0)\n",
            "<ipython-input-9-836dd0fd4201>:6: SettingWithCopyWarning: \n",
            "A value is trying to be set on a copy of a slice from a DataFrame.\n",
            "Try using .loc[row_indexer,col_indexer] = value instead\n",
            "\n",
            "See the caveats in the documentation: https://pandas.pydata.org/pandas-docs/stable/user_guide/indexing.html#returning-a-view-versus-a-copy\n",
            "  df[col] = df[col].astype('float32')\n"
          ]
        },
        {
          "data": {
            "text/html": [
              "\n",
              "  <div id=\"df-27ebd0c7-0882-421f-8a8c-320f98c9aa08\">\n",
              "    <div class=\"colab-df-container\">\n",
              "      <div>\n",
              "<style scoped>\n",
              "    .dataframe tbody tr th:only-of-type {\n",
              "        vertical-align: middle;\n",
              "    }\n",
              "\n",
              "    .dataframe tbody tr th {\n",
              "        vertical-align: top;\n",
              "    }\n",
              "\n",
              "    .dataframe thead th {\n",
              "        text-align: right;\n",
              "    }\n",
              "</style>\n",
              "<table border=\"1\" class=\"dataframe\">\n",
              "  <thead>\n",
              "    <tr style=\"text-align: right;\">\n",
              "      <th></th>\n",
              "      <th>Precip</th>\n",
              "      <th>MaxTemp</th>\n",
              "      <th>MinTemp</th>\n",
              "      <th>MeanTemp</th>\n",
              "      <th>Snowfall</th>\n",
              "      <th>PoorWeather</th>\n",
              "    </tr>\n",
              "  </thead>\n",
              "  <tbody>\n",
              "    <tr>\n",
              "      <th>0</th>\n",
              "      <td>1.016</td>\n",
              "      <td>25.555556</td>\n",
              "      <td>22.222222</td>\n",
              "      <td>23.888889</td>\n",
              "      <td>0.0</td>\n",
              "      <td>0.0</td>\n",
              "    </tr>\n",
              "    <tr>\n",
              "      <th>1</th>\n",
              "      <td>0.000</td>\n",
              "      <td>28.888889</td>\n",
              "      <td>21.666667</td>\n",
              "      <td>25.555556</td>\n",
              "      <td>0.0</td>\n",
              "      <td>0.0</td>\n",
              "    </tr>\n",
              "    <tr>\n",
              "      <th>2</th>\n",
              "      <td>2.540</td>\n",
              "      <td>26.111111</td>\n",
              "      <td>22.222222</td>\n",
              "      <td>24.444444</td>\n",
              "      <td>0.0</td>\n",
              "      <td>0.0</td>\n",
              "    </tr>\n",
              "    <tr>\n",
              "      <th>3</th>\n",
              "      <td>2.540</td>\n",
              "      <td>26.666667</td>\n",
              "      <td>22.222222</td>\n",
              "      <td>24.444444</td>\n",
              "      <td>0.0</td>\n",
              "      <td>0.0</td>\n",
              "    </tr>\n",
              "    <tr>\n",
              "      <th>4</th>\n",
              "      <td>0.000</td>\n",
              "      <td>26.666667</td>\n",
              "      <td>21.666667</td>\n",
              "      <td>24.444444</td>\n",
              "      <td>0.0</td>\n",
              "      <td>0.0</td>\n",
              "    </tr>\n",
              "    <tr>\n",
              "      <th>...</th>\n",
              "      <td>...</td>\n",
              "      <td>...</td>\n",
              "      <td>...</td>\n",
              "      <td>...</td>\n",
              "      <td>...</td>\n",
              "      <td>...</td>\n",
              "    </tr>\n",
              "    <tr>\n",
              "      <th>119035</th>\n",
              "      <td>0.000</td>\n",
              "      <td>28.333333</td>\n",
              "      <td>18.333333</td>\n",
              "      <td>23.333333</td>\n",
              "      <td>0.0</td>\n",
              "      <td>0.0</td>\n",
              "    </tr>\n",
              "    <tr>\n",
              "      <th>119036</th>\n",
              "      <td>9.906</td>\n",
              "      <td>29.444444</td>\n",
              "      <td>18.333333</td>\n",
              "      <td>23.888889</td>\n",
              "      <td>0.0</td>\n",
              "      <td>1.0</td>\n",
              "    </tr>\n",
              "    <tr>\n",
              "      <th>119037</th>\n",
              "      <td>0.000</td>\n",
              "      <td>28.333333</td>\n",
              "      <td>18.333333</td>\n",
              "      <td>23.333333</td>\n",
              "      <td>0.0</td>\n",
              "      <td>1.0</td>\n",
              "    </tr>\n",
              "    <tr>\n",
              "      <th>119038</th>\n",
              "      <td>0.000</td>\n",
              "      <td>28.333333</td>\n",
              "      <td>18.333333</td>\n",
              "      <td>23.333333</td>\n",
              "      <td>0.0</td>\n",
              "      <td>0.0</td>\n",
              "    </tr>\n",
              "    <tr>\n",
              "      <th>119039</th>\n",
              "      <td>0.000</td>\n",
              "      <td>29.444444</td>\n",
              "      <td>17.222222</td>\n",
              "      <td>23.333333</td>\n",
              "      <td>0.0</td>\n",
              "      <td>0.0</td>\n",
              "    </tr>\n",
              "  </tbody>\n",
              "</table>\n",
              "<p>119040 rows × 6 columns</p>\n",
              "</div>\n",
              "      <button class=\"colab-df-convert\" onclick=\"convertToInteractive('df-27ebd0c7-0882-421f-8a8c-320f98c9aa08')\"\n",
              "              title=\"Convert this dataframe to an interactive table.\"\n",
              "              style=\"display:none;\">\n",
              "        \n",
              "  <svg xmlns=\"http://www.w3.org/2000/svg\" height=\"24px\"viewBox=\"0 0 24 24\"\n",
              "       width=\"24px\">\n",
              "    <path d=\"M0 0h24v24H0V0z\" fill=\"none\"/>\n",
              "    <path d=\"M18.56 5.44l.94 2.06.94-2.06 2.06-.94-2.06-.94-.94-2.06-.94 2.06-2.06.94zm-11 1L8.5 8.5l.94-2.06 2.06-.94-2.06-.94L8.5 2.5l-.94 2.06-2.06.94zm10 10l.94 2.06.94-2.06 2.06-.94-2.06-.94-.94-2.06-.94 2.06-2.06.94z\"/><path d=\"M17.41 7.96l-1.37-1.37c-.4-.4-.92-.59-1.43-.59-.52 0-1.04.2-1.43.59L10.3 9.45l-7.72 7.72c-.78.78-.78 2.05 0 2.83L4 21.41c.39.39.9.59 1.41.59.51 0 1.02-.2 1.41-.59l7.78-7.78 2.81-2.81c.8-.78.8-2.07 0-2.86zM5.41 20L4 18.59l7.72-7.72 1.47 1.35L5.41 20z\"/>\n",
              "  </svg>\n",
              "      </button>\n",
              "      \n",
              "  <style>\n",
              "    .colab-df-container {\n",
              "      display:flex;\n",
              "      flex-wrap:wrap;\n",
              "      gap: 12px;\n",
              "    }\n",
              "\n",
              "    .colab-df-convert {\n",
              "      background-color: #E8F0FE;\n",
              "      border: none;\n",
              "      border-radius: 50%;\n",
              "      cursor: pointer;\n",
              "      display: none;\n",
              "      fill: #1967D2;\n",
              "      height: 32px;\n",
              "      padding: 0 0 0 0;\n",
              "      width: 32px;\n",
              "    }\n",
              "\n",
              "    .colab-df-convert:hover {\n",
              "      background-color: #E2EBFA;\n",
              "      box-shadow: 0px 1px 2px rgba(60, 64, 67, 0.3), 0px 1px 3px 1px rgba(60, 64, 67, 0.15);\n",
              "      fill: #174EA6;\n",
              "    }\n",
              "\n",
              "    [theme=dark] .colab-df-convert {\n",
              "      background-color: #3B4455;\n",
              "      fill: #D2E3FC;\n",
              "    }\n",
              "\n",
              "    [theme=dark] .colab-df-convert:hover {\n",
              "      background-color: #434B5C;\n",
              "      box-shadow: 0px 1px 3px 1px rgba(0, 0, 0, 0.15);\n",
              "      filter: drop-shadow(0px 1px 2px rgba(0, 0, 0, 0.3));\n",
              "      fill: #FFFFFF;\n",
              "    }\n",
              "  </style>\n",
              "\n",
              "      <script>\n",
              "        const buttonEl =\n",
              "          document.querySelector('#df-27ebd0c7-0882-421f-8a8c-320f98c9aa08 button.colab-df-convert');\n",
              "        buttonEl.style.display =\n",
              "          google.colab.kernel.accessAllowed ? 'block' : 'none';\n",
              "\n",
              "        async function convertToInteractive(key) {\n",
              "          const element = document.querySelector('#df-27ebd0c7-0882-421f-8a8c-320f98c9aa08');\n",
              "          const dataTable =\n",
              "            await google.colab.kernel.invokeFunction('convertToInteractive',\n",
              "                                                     [key], {});\n",
              "          if (!dataTable) return;\n",
              "\n",
              "          const docLinkHtml = 'Like what you see? Visit the ' +\n",
              "            '<a target=\"_blank\" href=https://colab.research.google.com/notebooks/data_table.ipynb>data table notebook</a>'\n",
              "            + ' to learn more about interactive tables.';\n",
              "          element.innerHTML = '';\n",
              "          dataTable['output_type'] = 'display_data';\n",
              "          await google.colab.output.renderOutput(dataTable, element);\n",
              "          const docLink = document.createElement('div');\n",
              "          docLink.innerHTML = docLinkHtml;\n",
              "          element.appendChild(docLink);\n",
              "        }\n",
              "      </script>\n",
              "    </div>\n",
              "  </div>\n",
              "  "
            ],
            "text/plain": [
              "        Precip    MaxTemp    MinTemp   MeanTemp  Snowfall  PoorWeather\n",
              "0        1.016  25.555556  22.222222  23.888889       0.0          0.0\n",
              "1        0.000  28.888889  21.666667  25.555556       0.0          0.0\n",
              "2        2.540  26.111111  22.222222  24.444444       0.0          0.0\n",
              "3        2.540  26.666667  22.222222  24.444444       0.0          0.0\n",
              "4        0.000  26.666667  21.666667  24.444444       0.0          0.0\n",
              "...        ...        ...        ...        ...       ...          ...\n",
              "119035   0.000  28.333333  18.333333  23.333333       0.0          0.0\n",
              "119036   9.906  29.444444  18.333333  23.888889       0.0          1.0\n",
              "119037   0.000  28.333333  18.333333  23.333333       0.0          1.0\n",
              "119038   0.000  28.333333  18.333333  23.333333       0.0          0.0\n",
              "119039   0.000  29.444444  17.222222  23.333333       0.0          0.0\n",
              "\n",
              "[119040 rows x 6 columns]"
            ]
          },
          "execution_count": 9,
          "metadata": {},
          "output_type": "execute_result"
        }
      ],
      "source": [
        "for col in df.columns:\n",
        "    if (df[col].dtype == object):\n",
        "        df[col] = df[col].replace(['T','#VALUE!'],0)\n",
        "        df[col] = df[col].replace(['1   1','1   1 1  1','1 0','1 0  1','1 1  1','11    1','11 1','1     0','1    1','1   1 1','1     1','1 1','1     1  1','1  1','1        1','1        1'],1)\n",
        "        df[col] = df[col].fillna(0)\n",
        "        df[col] = df[col].astype('float32')\n",
        "\n",
        "df"
      ]
    },
    {
      "cell_type": "code",
      "execution_count": null,
      "metadata": {
        "colab": {
          "base_uri": "https://localhost:8080/"
        },
        "id": "7BfjAXMNujSo",
        "outputId": "426309cd-81cd-4e83-eccf-4bc55591db4f"
      },
      "outputs": [
        {
          "data": {
            "text/plain": [
              "Precip         3.225612e+00\n",
              "MaxTemp        2.704511e+01\n",
              "MinTemp        1.778951e+01\n",
              "MeanTemp       2.241163e+01\n",
              "Snowfall       2.430539e-01\n",
              "PoorWeather    1.135334e+06\n",
              "dtype: float64"
            ]
          },
          "execution_count": 10,
          "metadata": {},
          "output_type": "execute_result"
        }
      ],
      "source": [
        "df.mean()"
      ]
    },
    {
      "cell_type": "code",
      "execution_count": null,
      "metadata": {
        "colab": {
          "base_uri": "https://localhost:8080/"
        },
        "id": "YEjpBEcnupG6",
        "outputId": "983028af-120b-4d4c-f309-b39a2dc67e9e"
      },
      "outputs": [
        {
          "data": {
            "text/plain": [
              "Precip          0.000000\n",
              "MaxTemp       -33.333333\n",
              "MinTemp       -38.333333\n",
              "MeanTemp      -35.555556\n",
              "Snowfall        0.000000\n",
              "PoorWeather     0.000000\n",
              "dtype: float64"
            ]
          },
          "execution_count": 11,
          "metadata": {},
          "output_type": "execute_result"
        }
      ],
      "source": [
        "df.min()"
      ]
    },
    {
      "cell_type": "code",
      "execution_count": null,
      "metadata": {
        "colab": {
          "base_uri": "https://localhost:8080/"
        },
        "id": "tm7xTH0qusO-",
        "outputId": "4ebe952f-3f40-4d98-cf66-c801c53a7510"
      },
      "outputs": [
        {
          "data": {
            "text/plain": [
              "Precip         3.073400e+02\n",
              "MaxTemp        5.000000e+01\n",
              "MinTemp        3.444444e+01\n",
              "MeanTemp       4.000000e+01\n",
              "Snowfall       8.636000e+01\n",
              "PoorWeather    1.010001e+09\n",
              "dtype: float64"
            ]
          },
          "execution_count": 12,
          "metadata": {},
          "output_type": "execute_result"
        }
      ],
      "source": [
        "df.max()"
      ]
    },
    {
      "cell_type": "code",
      "execution_count": null,
      "metadata": {
        "colab": {
          "base_uri": "https://localhost:8080/"
        },
        "id": "T2D8PH7xuu-W",
        "outputId": "b3847c73-123d-4fe8-adba-3093fc513a74"
      },
      "outputs": [
        {
          "data": {
            "text/plain": [
              "Precip         1.080104e+01\n",
              "MaxTemp        8.717817e+00\n",
              "MinTemp        8.334572e+00\n",
              "MeanTemp       8.297982e+00\n",
              "Snowfall       2.613366e+00\n",
              "PoorWeather    3.367522e+07\n",
              "dtype: float64"
            ]
          },
          "execution_count": 13,
          "metadata": {},
          "output_type": "execute_result"
        }
      ],
      "source": [
        "df.std()"
      ]
    },
    {
      "cell_type": "code",
      "execution_count": null,
      "metadata": {
        "colab": {
          "base_uri": "https://localhost:8080/"
        },
        "id": "MxOi0gezkZTw",
        "outputId": "206e0368-13a5-4809-917e-731d0125e38c"
      },
      "outputs": [
        {
          "name": "stdout",
          "output_type": "stream",
          "text": [
            "Max value for MaxTemp:  50.0\n",
            "Min value for MaxTemp:  -33.33333333\n",
            "Max value for MinTemp:  34.44444444\n",
            "Min value for MinTemp:  -38.33333333\n"
          ]
        }
      ],
      "source": [
        "print(\"Max value for MaxTemp: \", df['MaxTemp'].max())\n",
        "print(\"Min value for MaxTemp: \", df['MaxTemp'].min())\n",
        "print(\"Max value for MinTemp: \", df['MinTemp'].max())\n",
        "print(\"Min value for MinTemp: \", df['MinTemp'].min())"
      ]
    },
    {
      "cell_type": "code",
      "execution_count": null,
      "metadata": {
        "colab": {
          "base_uri": "https://localhost:8080/",
          "height": 1000
        },
        "id": "MEOwS7TakZWg",
        "outputId": "c709161e-15cf-4737-c66f-6925530d5d71"
      },
      "outputs": [
        {
          "name": "stderr",
          "output_type": "stream",
          "text": [
            "/usr/local/lib/python3.8/dist-packages/seaborn/distributions.py:2619: FutureWarning: `distplot` is a deprecated function and will be removed in a future version. Please adapt your code to use either `displot` (a figure-level function with similar flexibility) or `histplot` (an axes-level function for histograms).\n",
            "  warnings.warn(msg, FutureWarning)\n"
          ]
        },
        {
          "data": {
            "text/plain": [
              "[Text(0.5, 0, 'PoorWeather range')]"
            ]
          },
          "execution_count": 15,
          "metadata": {},
          "output_type": "execute_result"
        },
        {
          "data": {
            "image/png": "[encoded data removed]",
            "text/plain": [
              "<Figure size 720x1440 with 6 Axes>"
            ]
          },
          "metadata": {},
          "output_type": "display_data"
        }
      ],
      "source": [
        "fig_dims = (10, 20)\n",
        "fig, axs = plt.subplots(nrows=6,figsize=fig_dims)\n",
        "\n",
        "plt.subplots_adjust(hspace = 0.3)\n",
        "\n",
        "\n",
        "pl1 = sns.distplot(df.Precip,ax=axs[0],kde=False);\n",
        "pl1.set(xlabel = \"Precpitation range\")\n",
        "\n",
        "pl2 = sns.distplot(df.MaxTemp,ax=axs[1],kde=False);\n",
        "pl2.set(xlabel = \"MaxTemp range\")\n",
        "\n",
        "pl3 = sns.distplot(df.MinTemp,ax=axs[2],kde=False);\n",
        "pl3.set(xlabel = \"MinTemp range\")\n",
        "\n",
        "pl4 = sns.distplot(df.MeanTemp,ax=axs[3],kde=False);\n",
        "pl4.set(xlabel = \"MeanTemp range\")\n",
        "\n",
        "pl5 = sns.distplot(df.Snowfall,ax=axs[4],kde=False);\n",
        "pl5.set(xlabel = \"Snowfall range\")\n",
        "\n",
        "pl6 = sns.distplot(df.PoorWeather,ax=axs[5],kde=False);\n",
        "pl6.set(xlabel = \"PoorWeather range\")\n"
      ]
    },
    {
      "cell_type": "code",
      "execution_count": null,
      "metadata": {
        "colab": {
          "base_uri": "https://localhost:8080/"
        },
        "id": "l1i1xNIZkZY6",
        "outputId": "b7166948-0017-4e27-e2d8-8b4d5845af15"
      },
      "outputs": [
        {
          "name": "stdout",
          "output_type": "stream",
          "text": [
            "[[ 1.01600003 22.22222222 23.88888889  0.          0.        ]\n",
            " [ 0.         21.66666667 25.55555556  0.          0.        ]\n",
            " [ 2.53999996 22.22222222 24.44444444  0.          0.        ]\n",
            " ...\n",
            " [ 0.         18.33333333 23.33333333  0.          1.        ]\n",
            " [ 0.         18.33333333 23.33333333  0.          0.        ]\n",
            " [ 0.         17.22222222 23.33333333  0.          0.        ]]\n",
            "Shape of x:  (119040, 5)\n"
          ]
        }
      ],
      "source": [
        "target = 'MaxTemp'\n",
        "X = df.drop(target, axis=1)\n",
        "x = X.values\n",
        "# Precipitation range | MinTemp range | MeanTemp range | Snowfall range | PoorWeather range\n",
        "print(x)\n",
        "print(\"Shape of x: \", x.shape)"
      ]
    },
    {
      "cell_type": "code",
      "execution_count": null,
      "metadata": {
        "colab": {
          "base_uri": "https://localhost:8080/"
        },
        "id": "UVR0yLKfvtlJ",
        "outputId": "ffb7b1a1-9f9c-4adc-ea8e-6de4feb6f368"
      },
      "outputs": [
        {
          "data": {
            "text/plain": [
              "Precip         3.225612e+00\n",
              "MinTemp        1.778951e+01\n",
              "MeanTemp       2.241163e+01\n",
              "Snowfall       2.430539e-01\n",
              "PoorWeather    1.135334e+06\n",
              "dtype: float64"
            ]
          },
          "execution_count": 17,
          "metadata": {},
          "output_type": "execute_result"
        }
      ],
      "source": [
        "X.mean()"
      ]
    },
    {
      "cell_type": "code",
      "execution_count": null,
      "metadata": {
        "colab": {
          "base_uri": "https://localhost:8080/"
        },
        "id": "HtlAAJoPwQO4",
        "outputId": "83b7c69d-18d2-4fd4-c9fa-3fe78bf4da36"
      },
      "outputs": [
        {
          "data": {
            "text/plain": [
              "Precip          0.000000\n",
              "MinTemp       -38.333333\n",
              "MeanTemp      -35.555556\n",
              "Snowfall        0.000000\n",
              "PoorWeather     0.000000\n",
              "dtype: float64"
            ]
          },
          "execution_count": 18,
          "metadata": {},
          "output_type": "execute_result"
        }
      ],
      "source": [
        "X.min()"
      ]
    },
    {
      "cell_type": "code",
      "execution_count": null,
      "metadata": {
        "colab": {
          "base_uri": "https://localhost:8080/"
        },
        "id": "JYpZ4TYywQRu",
        "outputId": "c9ec9cbc-16e0-4945-bd0c-0242a4e88bf5"
      },
      "outputs": [
        {
          "data": {
            "text/plain": [
              "Precip         3.073400e+02\n",
              "MinTemp        3.444444e+01\n",
              "MeanTemp       4.000000e+01\n",
              "Snowfall       8.636000e+01\n",
              "PoorWeather    1.010001e+09\n",
              "dtype: float64"
            ]
          },
          "execution_count": 19,
          "metadata": {},
          "output_type": "execute_result"
        }
      ],
      "source": [
        "X.max()"
      ]
    },
    {
      "cell_type": "code",
      "execution_count": null,
      "metadata": {
        "colab": {
          "base_uri": "https://localhost:8080/"
        },
        "id": "etMW4NWCwQUp",
        "outputId": "86fe63b7-0f7d-493b-b0c8-012c189d1575"
      },
      "outputs": [
        {
          "data": {
            "text/plain": [
              "Precip         1.080104e+01\n",
              "MinTemp        8.334572e+00\n",
              "MeanTemp       8.297982e+00\n",
              "Snowfall       2.613366e+00\n",
              "PoorWeather    3.367522e+07\n",
              "dtype: float64"
            ]
          },
          "execution_count": 20,
          "metadata": {},
          "output_type": "execute_result"
        }
      ],
      "source": [
        "X.std()"
      ]
    },
    {
      "cell_type": "code",
      "execution_count": null,
      "metadata": {
        "id": "4yAx_WgLwWRh"
      },
      "outputs": [],
      "source": [
        "np_X = X.values"
      ]
    },
    {
      "cell_type": "code",
      "execution_count": null,
      "metadata": {
        "colab": {
          "base_uri": "https://localhost:8080/"
        },
        "id": "oM-d17QewWUd",
        "outputId": "633609b3-00e4-48cf-c305-08e6a717753a"
      },
      "outputs": [
        {
          "data": {
            "text/plain": [
              "array([[ 1.01600003, 22.22222222, 23.88888889,  0.        ,  0.        ],\n",
              "       [ 0.        , 21.66666667, 25.55555556,  0.        ,  0.        ],\n",
              "       [ 2.53999996, 22.22222222, 24.44444444,  0.        ,  0.        ],\n",
              "       [ 2.53999996, 22.22222222, 24.44444444,  0.        ,  0.        ],\n",
              "       [ 0.        , 21.66666667, 24.44444444,  0.        ,  0.        ]])"
            ]
          },
          "execution_count": 22,
          "metadata": {},
          "output_type": "execute_result"
        }
      ],
      "source": [
        "np_X[:5]"
      ]
    },
    {
      "cell_type": "code",
      "execution_count": null,
      "metadata": {
        "colab": {
          "base_uri": "https://localhost:8080/"
        },
        "id": "dbg-y_5bwWXt",
        "outputId": "85085e30-5f5b-4026-8d24-1a8daeb86e61"
      },
      "outputs": [
        {
          "data": {
            "text/plain": [
              "array([3.22561224e+00, 1.77895105e+01, 2.24116310e+01, 2.43053930e-01,\n",
              "       1.13533470e+06])"
            ]
          },
          "execution_count": 23,
          "metadata": {},
          "output_type": "execute_result"
        }
      ],
      "source": [
        "np_X.mean(axis=0)"
      ]
    },
    {
      "cell_type": "code",
      "execution_count": null,
      "metadata": {
        "id": "QVe7L2hBwhkQ"
      },
      "outputs": [],
      "source": [
        "np_X_n = (np_X - np_X.mean(0)) / np_X.std(0)"
      ]
    },
    {
      "cell_type": "code",
      "execution_count": null,
      "metadata": {
        "colab": {
          "base_uri": "https://localhost:8080/"
        },
        "id": "ammBzbk1whsX",
        "outputId": "7542092b-b6a8-41ac-9ff2-5fe9336940cb"
      },
      "outputs": [
        {
          "data": {
            "text/plain": [
              "array([[-0.2045748 ,  0.53184859,  0.1780269 , -0.09300457, -0.03371439],\n",
              "       [-0.29864018,  0.46519155,  0.37887979, -0.09300457, -0.03371439],\n",
              "       [-0.06347675,  0.53184859,  0.24497787, -0.09300457, -0.03371439],\n",
              "       [-0.06347675,  0.53184859,  0.24497787, -0.09300457, -0.03371439],\n",
              "       [-0.29864018,  0.46519155,  0.24497787, -0.09300457, -0.03371439]])"
            ]
          },
          "execution_count": 25,
          "metadata": {},
          "output_type": "execute_result"
        }
      ],
      "source": [
        "np_X_n[:5]"
      ]
    },
    {
      "cell_type": "code",
      "execution_count": null,
      "metadata": {
        "colab": {
          "base_uri": "https://localhost:8080/"
        },
        "id": "E5gqADWmkZbY",
        "outputId": "07b9233c-0e8a-418b-f0ca-f209b07713bf"
      },
      "outputs": [
        {
          "name": "stdout",
          "output_type": "stream",
          "text": [
            "[[25.55555556]\n",
            " [28.88888889]\n",
            " [26.11111111]\n",
            " ...\n",
            " [28.33333333]\n",
            " [28.33333333]\n",
            " [29.44444444]]\n",
            "Shape of y:  (119040, 1)\n"
          ]
        }
      ],
      "source": [
        "Y = df[[target]]\n",
        "y = Y.values\n",
        "# MaxTemp\n",
        "print(y)\n",
        "print(\"Shape of y: \", y.shape)"
      ]
    },
    {
      "cell_type": "code",
      "execution_count": null,
      "metadata": {
        "id": "73vEzT-uw28t"
      },
      "outputs": [],
      "source": [
        "Y.mean()\n",
        "Y.min()\n",
        "Y.max()\n",
        "np_y = Y.values"
      ]
    },
    {
      "cell_type": "code",
      "execution_count": null,
      "metadata": {
        "colab": {
          "base_uri": "https://localhost:8080/"
        },
        "id": "zLcF0Vu4wxqu",
        "outputId": "6f8dd276-0310-4000-cbc5-a8aa8b6dccc4"
      },
      "outputs": [
        {
          "data": {
            "text/plain": [
              "array([[0.70666667],\n",
              "       [0.74666667],\n",
              "       [0.71333333],\n",
              "       [0.72      ],\n",
              "       [0.72      ]])"
            ]
          },
          "execution_count": 28,
          "metadata": {},
          "output_type": "execute_result"
        }
      ],
      "source": [
        "np_y_n = (np_y - np_y.min()) / (np_y.max() - np_y.min())\n",
        "np_y_n[:5]"
      ]
    },
    {
      "cell_type": "code",
      "execution_count": null,
      "metadata": {
        "colab": {
          "base_uri": "https://localhost:8080/"
        },
        "id": "fIllkDd1wxuu",
        "outputId": "f614fdd7-f20b-40c6-81c9-6238bc8ffa2e"
      },
      "outputs": [
        {
          "data": {
            "text/plain": [
              "-33.33333333"
            ]
          },
          "execution_count": 29,
          "metadata": {},
          "output_type": "execute_result"
        }
      ],
      "source": [
        "np_y.min()"
      ]
    },
    {
      "cell_type": "code",
      "execution_count": null,
      "metadata": {
        "colab": {
          "base_uri": "https://localhost:8080/"
        },
        "id": "shxiM8OMwxxX",
        "outputId": "331ad6e1-f85b-4f78-db0f-634c4dc01dd5"
      },
      "outputs": [
        {
          "data": {
            "text/plain": [
              "50.0"
            ]
          },
          "execution_count": 30,
          "metadata": {},
          "output_type": "execute_result"
        }
      ],
      "source": [
        "np_y.max()"
      ]
    },
    {
      "cell_type": "code",
      "execution_count": null,
      "metadata": {
        "colab": {
          "base_uri": "https://localhost:8080/"
        },
        "id": "xWzEZyZMxO3q",
        "outputId": "1bdf66c1-354c-4567-aa04-b770aa827975"
      },
      "outputs": [
        {
          "data": {
            "text/plain": [
              "array([[25.55555556],\n",
              "       [28.88888889],\n",
              "       [26.11111111],\n",
              "       [26.66666667],\n",
              "       [26.66666667],\n",
              "       [26.66666667],\n",
              "       [28.33333333],\n",
              "       [26.66666667],\n",
              "       [27.22222222],\n",
              "       [25.55555556]])"
            ]
          },
          "execution_count": 31,
          "metadata": {},
          "output_type": "execute_result"
        }
      ],
      "source": [
        "y_norm_sub = np_y.min()\n",
        "y_norm_div = np_y.max() - np_y.min()\n",
        "y_test = np_y_n * y_norm_div + y_norm_sub\n",
        "y_test[:10]"
      ]
    },
    {
      "cell_type": "code",
      "execution_count": null,
      "metadata": {
        "id": "xC9bct5cxO65"
      },
      "outputs": [],
      "source": [
        "np_weights = np.linalg.pinv(np_X.T.dot(np_X)).dot(np_X.T).dot(np_y)\n",
        "np_weights_n = np.linalg.pinv(np_X_n.T.dot(np_X_n)).dot(np_X_n.T).dot(np_y_n)"
      ]
    },
    {
      "cell_type": "code",
      "execution_count": null,
      "metadata": {
        "colab": {
          "base_uri": "https://localhost:8080/"
        },
        "id": "jepWyOm_xXLa",
        "outputId": "8489ace0-c820-47e2-dfb5-95b42032b8af"
      },
      "outputs": [
        {
          "data": {
            "text/plain": [
              "array([[-1.26026146e-03],\n",
              "       [-9.32259763e-01],\n",
              "       [ 1.94396462e+00],\n",
              "       [ 1.05710475e-02],\n",
              "       [-8.52267529e-11]])"
            ]
          },
          "execution_count": 33,
          "metadata": {},
          "output_type": "execute_result"
        }
      ],
      "source": [
        "np_weights"
      ]
    },
    {
      "cell_type": "code",
      "execution_count": null,
      "metadata": {
        "colab": {
          "base_uri": "https://localhost:8080/"
        },
        "id": "WepabsKwxXOO",
        "outputId": "a3888081-b51f-4dae-8c13-71ce832ac79c"
      },
      "outputs": [
        {
          "data": {
            "text/plain": [
              "array([[-5.32934611e-04],\n",
              "       [-8.76262328e-02],\n",
              "       [ 1.85826916e-01],\n",
              "       [-5.22270719e-04],\n",
              "       [-6.26143497e-05]])"
            ]
          },
          "execution_count": 34,
          "metadata": {},
          "output_type": "execute_result"
        }
      ],
      "source": [
        "np_weights_n"
      ]
    },
    {
      "cell_type": "code",
      "execution_count": null,
      "metadata": {
        "id": "xojT4BL3xXQ5"
      },
      "outputs": [],
      "source": [
        "np_y_preds = np_X.dot(np_weights)\n",
        "\n",
        "np_y_preds_n = np_X_n.dot(np_weights_n)"
      ]
    },
    {
      "cell_type": "code",
      "execution_count": null,
      "metadata": {
        "colab": {
          "base_uri": "https://localhost:8080/",
          "height": 562
        },
        "id": "mKYOK_XDxe-k",
        "outputId": "6cf07ec8-065e-4845-8faa-cc7bcb99db50"
      },
      "outputs": [
        {
          "data": {
            "text/plain": [
              "Text(0.5, 1.0, 'Normed data model predictions')"
            ]
          },
          "execution_count": 36,
          "metadata": {},
          "output_type": "execute_result"
        },
        {
          "data": {
            "image/png": "[encoded data removed]",
            "text/plain": [
              "<Figure size 432x288 with 1 Axes>"
            ]
          },
          "metadata": {},
          "output_type": "display_data"
        },
        {
          "data": {
            "image/png": "[encoded data removed]",
            "text/plain": [
              "<Figure size 432x288 with 1 Axes>"
            ]
          },
          "metadata": {},
          "output_type": "display_data"
        }
      ],
      "source": [
        "plt.figure()\n",
        "plt.hist(np_y_preds)\n",
        "plt.title('Raw model predictions')\n",
        "plt.figure()\n",
        "plt.hist(np_y_preds_n)\n",
        "plt.title('Normed data model predictions')"
      ]
    },
    {
      "cell_type": "code",
      "execution_count": null,
      "metadata": {
        "colab": {
          "base_uri": "https://localhost:8080/"
        },
        "id": "5Oq22OlfkZeB",
        "outputId": "189b70ed-d4dc-4633-c621-eed77e12cfa2"
      },
      "outputs": [
        {
          "name": "stdout",
          "output_type": "stream",
          "text": [
            "Sample of the first registration:  (tensor([ 1.0160, 22.2222, 23.8889,  0.0000,  0.0000]), tensor([25.5556]))\n",
            "<torch.utils.data.dataloader.DataLoader object at 0x7f1584a2c4c0>\n"
          ]
        }
      ],
      "source": [
        "batch_size=5120\n",
        "target = 'MaxTemp'\n",
        "x = df.drop(target, axis=1).values\n",
        "\n",
        "dataset = TensorDataset(torch.tensor(x, dtype=torch.float32), torch.tensor(y, dtype=torch.float32))\n",
        "print(\"Sample of the first registration: \", dataset[0])\n",
        "\n",
        "num_rows = df.shape[0]\n",
        "\n",
        "val_percent = 0.15\n",
        "\n",
        "val_size = int(num_rows * val_percent)\n",
        "\n",
        "train_size = num_rows - val_size\n",
        "\n",
        "train_ds, val_ds = random_split(dataset, (train_size,val_size))\n",
        "\n",
        "train_loader = DataLoader(train_ds, batch_size, shuffle=True)\n",
        "print(train_loader)\n",
        "val_loader = DataLoader(val_ds, batch_size*2)"
      ]
    },
    {
      "cell_type": "code",
      "execution_count": null,
      "metadata": {
        "colab": {
          "base_uri": "https://localhost:8080/"
        },
        "id": "1cG_PzyN1jjt",
        "outputId": "bf7d8f68-ab3d-41d7-f54c-ad80a7098ea6"
      },
      "outputs": [
        {
          "data": {
            "text/plain": [
              "(5, 1)"
            ]
          },
          "execution_count": 38,
          "metadata": {},
          "output_type": "execute_result"
        }
      ],
      "source": [
        "x_size = x.shape[1]\n",
        "y_size = y.shape[1]\n",
        "x_size, y_size"
      ]
    },
    {
      "cell_type": "code",
      "execution_count": null,
      "metadata": {
        "id": "IBLMhYq4kZgb"
      },
      "outputs": [],
      "source": [
        "class WW2TempPredictionModel(nn.Module):\n",
        "    def __init__(self):\n",
        "        super().__init__()\n",
        "        self.linear = nn.Linear(x_size, y_size)\n",
        "\n",
        "    def forward(self, xb):\n",
        "        out = self.linear(xb)\n",
        "        return out\n",
        "\n",
        "    def training_step(self, batch):\n",
        "        inputs, targets = batch\n",
        "        out = self(inputs)\n",
        "        loss = F.l1_loss(out, targets)\n",
        "        return loss\n",
        "\n",
        "    def validation_step(self, batch):\n",
        "        inputs, targets = batch\n",
        "        out = self(inputs)\n",
        "        loss = F.l1_loss(out, targets)\n",
        "        return {'val_loss': loss.detach()}\n",
        "\n",
        "    def validation_epoch_end(self, outputs):\n",
        "        batch_losses = [x['val_loss'] for x in outputs]\n",
        "        epoch_loss = torch.stack(batch_losses).mean()\n",
        "        return {'val_loss': epoch_loss.item()}\n",
        "\n",
        "    def epoch_end(self, epoch, result,num_epochs):\n",
        "        if (epoch+1) % 10 == 0 or epoch == num_epochs-1:\n",
        "            print(\"Epoch [{}], val_loss: {:.4f}\".format(epoch, result['val_loss']))\n",
        "\n"
      ]
    },
    {
      "cell_type": "code",
      "execution_count": null,
      "metadata": {
        "id": "lTnincjC1wHM"
      },
      "outputs": [],
      "source": [
        "def evaluate(model, val_loader):\n",
        "    outputs = [model.validation_step(batch) for batch in val_loader]\n",
        "    return model.validation_epoch_end(outputs)\n",
        "\n",
        "def fit(epochs, lr, model, train_loader, val_loader, opt_func=torch.optim.SGD, early_stopping=False, patience=5):\n",
        "    history = []\n",
        "    optimizer = opt_func(model.parameters(), lr)\n",
        "    best_val_loss = float('inf')\n",
        "    early_stopping_counter = 0\n",
        "    for epoch in range(epochs):\n",
        "        # Training Phase\n",
        "        for batch in train_loader:\n",
        "            loss = model.training_step(batch)\n",
        "            loss.backward()\n",
        "            optimizer.step()\n",
        "            optimizer.zero_grad()\n",
        "\n",
        "        # Validation phase\n",
        "        result = evaluate(model, val_loader)\n",
        "        model.epoch_end(epoch, result, epochs)\n",
        "        history.append(result)\n",
        "\n",
        "        # Early Stopping Check\n",
        "        if early_stopping:\n",
        "            val_loss = result['val_loss']\n",
        "            if val_loss < best_val_loss:\n",
        "                best_val_loss = val_loss\n",
        "                early_stopping_counter = 0\n",
        "            else:\n",
        "                early_stopping_counter += 1\n",
        "                if early_stopping_counter >= patience:\n",
        "                    break\n",
        "\n",
        "    return history\n"
      ]
    },
    {
      "cell_type": "code",
      "execution_count": null,
      "metadata": {
        "colab": {
          "base_uri": "https://localhost:8080/"
        },
        "id": "C3vh29UG1zf0",
        "outputId": "0e498136-81b3-4986-8a72-743ada02bd7b"
      },
      "outputs": [
        {
          "data": {
            "text/plain": [
              "[[tensor([[ 0.0000, 20.5556, 24.4444,  0.0000,  0.0000],\n",
              "          [ 3.3020, 23.3333, 26.6667,  0.0000,  1.0000],\n",
              "          [ 0.0000, 18.8889, 25.5556,  0.0000,  0.0000],\n",
              "          ...,\n",
              "          [ 0.0000, 15.0000, 21.1111,  0.0000,  0.0000],\n",
              "          [ 0.0000, 23.3333, 26.6667,  0.0000,  0.0000],\n",
              "          [ 0.0000,  1.1111,  5.5556,  0.0000,  0.0000]]), tensor([[28.3333],\n",
              "          [30.5556],\n",
              "          [32.2222],\n",
              "          ...,\n",
              "          [26.6667],\n",
              "          [29.4444],\n",
              "          [10.5556]])], [tensor([[ 0.0000, 17.7778, 23.3333,  0.0000,  0.0000],\n",
              "          [ 0.0000,  5.0000, 13.3333,  0.0000,  0.0000],\n",
              "          [ 0.0000, 21.6667, 26.1111,  0.0000,  0.0000],\n",
              "          ...,\n",
              "          [ 0.0000, 25.5556, 28.8889,  0.0000,  0.0000],\n",
              "          [ 7.1120,  7.2222,  9.4444,  0.0000,  0.0000],\n",
              "          [ 0.0000, 19.4444, 23.8889,  0.0000,  0.0000]]), tensor([[28.8889],\n",
              "          [22.2222],\n",
              "          [30.5556],\n",
              "          ...,\n",
              "          [31.6667],\n",
              "          [11.6667],\n",
              "          [28.3333]])], [tensor([[ 0.0000, 21.6667, 26.6667,  0.0000,  0.0000],\n",
              "          [ 0.0000, 25.0000, 26.6667,  0.0000,  0.0000],\n",
              "          [ 9.9060, 22.2222, 23.3333,  0.0000,  0.0000],\n",
              "          ...,\n",
              "          [ 0.0000, 25.0000, 26.6667,  0.0000,  0.0000],\n",
              "          [ 0.0000, 22.2222, 27.7778,  0.0000,  0.0000],\n",
              "          [ 0.5080, 11.1111, 19.4444,  0.0000,  0.0000]]), tensor([[31.6667],\n",
              "          [27.7778],\n",
              "          [24.4444],\n",
              "          ...,\n",
              "          [28.8889],\n",
              "          [32.7778],\n",
              "          [27.7778]])], [tensor([[  0.0000,  24.4444,  27.7778,   0.0000,   0.0000],\n",
              "          [  0.0000,  19.4444,  22.2222,   0.0000,   0.0000],\n",
              "          [  0.0000,  26.1111,  28.3333,   0.0000,   0.0000],\n",
              "          ...,\n",
              "          [  0.0000,  -0.5556,  11.1111,   0.0000,   0.0000],\n",
              "          [  0.0000,  22.7778,  26.6667,   0.0000,   0.0000],\n",
              "          [  0.0000, -17.7778, -17.7778,   0.0000,   0.0000]]),\n",
              "  tensor([[ 31.1111],\n",
              "          [ 25.0000],\n",
              "          [ 30.5556],\n",
              "          ...,\n",
              "          [ 23.3333],\n",
              "          [ 30.5556],\n",
              "          [-17.7778]])], [tensor([[ 0.0000, 19.4444, 23.3333,  0.0000,  0.0000],\n",
              "          [24.3840, 23.3333, 26.6667,  0.0000,  0.0000],\n",
              "          [ 0.0000, 21.1111, 26.1111,  0.0000,  0.0000],\n",
              "          ...,\n",
              "          [13.7160, 22.7778, 27.2222,  0.0000,  0.0000],\n",
              "          [ 0.0000, 18.3333, 23.3333,  0.0000,  0.0000],\n",
              "          [ 0.2540,  3.3333,  6.6667,  0.0000,  1.0000]]),\n",
              "  tensor([[27.2222],\n",
              "          [30.0000],\n",
              "          [31.1111],\n",
              "          ...,\n",
              "          [31.6667],\n",
              "          [28.8889],\n",
              "          [ 9.4444]])], [tensor([[ 0.0000, 24.4444, 27.7778,  0.0000,  1.0000],\n",
              "          [ 0.0000, -1.1111,  1.6667, 50.8000,  0.0000],\n",
              "          [ 1.7780, 22.7778, 25.0000,  0.0000,  1.0000],\n",
              "          ...,\n",
              "          [ 0.0000, 10.5556, 18.8889,  0.0000,  0.0000],\n",
              "          [ 2.5400, 19.4444, 22.2222,  0.0000,  0.0000],\n",
              "          [ 0.0000,  8.8889, 11.6667,  0.0000,  1.0000]]), tensor([[30.5556],\n",
              "          [ 4.4444],\n",
              "          [27.2222],\n",
              "          ...,\n",
              "          [27.2222],\n",
              "          [25.0000],\n",
              "          [14.4444]])], [tensor([[  3.3020,   1.6667,   4.4444,   0.0000,   1.0000],\n",
              "          [  0.0000,  25.0000,  27.7778,   0.0000,   1.0000],\n",
              "          [  0.0000,  23.8889,  26.1111,   0.0000,   0.0000],\n",
              "          ...,\n",
              "          [  4.5720,  25.5556,  30.0000,   0.0000,   0.0000],\n",
              "          [  0.0000, -24.4444, -20.0000,   7.6200,   0.0000],\n",
              "          [  0.0000,   7.7778,  13.3333,   0.0000,   0.0000]]),\n",
              "  tensor([[  7.7778],\n",
              "          [ 30.5556],\n",
              "          [ 28.3333],\n",
              "          ...,\n",
              "          [ 34.4444],\n",
              "          [-15.0000],\n",
              "          [ 18.8889]])], [tensor([[ 3.3020, 13.3333, 18.8889,  0.0000,  1.0000],\n",
              "          [ 0.0000, 21.1111, 26.6667,  0.0000,  0.0000],\n",
              "          [ 4.0640, 23.8889, 26.6667,  0.0000,  1.0000],\n",
              "          ...,\n",
              "          [ 0.0000, 24.4444, 26.6667,  0.0000,  0.0000],\n",
              "          [ 0.0000, 14.4444, 19.4444,  0.0000,  0.0000],\n",
              "          [ 0.0000, 23.3333, 26.6667,  0.0000,  0.0000]]),\n",
              "  tensor([[25.0000],\n",
              "          [32.2222],\n",
              "          [29.4444],\n",
              "          ...,\n",
              "          [29.4444],\n",
              "          [24.4444],\n",
              "          [30.0000]])], [tensor([[ 0.0000, 27.2222, 28.8889,  0.0000,  0.0000],\n",
              "          [ 0.0000, 21.6667, 27.7778,  0.0000,  0.0000],\n",
              "          [ 0.0000, 23.3333, 28.3333,  0.0000,  1.0000],\n",
              "          ...,\n",
              "          [ 0.0000, 22.7778, 27.7778,  0.0000,  0.0000],\n",
              "          [ 0.0000, 20.5556, 27.7778,  0.0000,  0.0000],\n",
              "          [ 0.0000, 21.6667, 25.5556,  0.0000,  1.0000]]), tensor([[30.5556],\n",
              "          [34.4444],\n",
              "          [33.3333],\n",
              "          ...,\n",
              "          [33.3333],\n",
              "          [34.4444],\n",
              "          [30.0000]])], [tensor([[ 0.0000, 10.0000, 22.2222,  0.0000,  0.0000],\n",
              "          [ 0.0000,  8.3333, 12.2222,  0.0000,  0.0000],\n",
              "          [14.4780, 25.0000, 26.6667,  0.0000,  0.0000],\n",
              "          ...,\n",
              "          [49.7840, 24.4444, 30.0000,  0.0000,  0.0000],\n",
              "          [ 0.0000, 23.3333, 26.6667,  0.0000,  0.0000],\n",
              "          [ 0.0000, 23.8889, 28.3333,  0.0000,  1.0000]]), tensor([[33.8889],\n",
              "          [16.6667],\n",
              "          [27.7778],\n",
              "          ...,\n",
              "          [35.5556],\n",
              "          [29.4444],\n",
              "          [32.7778]])], [tensor([[ 0.0000, 23.3333, 26.6667,  0.0000,  1.0000],\n",
              "          [ 0.0000, 20.0000, 23.3333,  0.0000,  0.0000],\n",
              "          [ 0.0000, 13.8889, 20.0000,  0.0000,  0.0000],\n",
              "          ...,\n",
              "          [ 0.0000,  6.6667, 15.5556,  0.0000,  0.0000],\n",
              "          [24.8920, 22.7778, 25.5556,  0.0000,  1.0000],\n",
              "          [ 0.0000, 10.0000, 18.8889,  0.0000,  0.0000]]), tensor([[28.8889],\n",
              "          [26.1111],\n",
              "          [26.6667],\n",
              "          ...,\n",
              "          [24.4444],\n",
              "          [28.8889],\n",
              "          [27.7778]])], [tensor([[ 0.0000, 18.8889, 22.2222,  0.0000,  0.0000],\n",
              "          [ 0.0000, 18.8889, 20.0000,  0.0000,  1.0000],\n",
              "          [ 0.0000, 23.3333, 27.7778,  0.0000,  0.0000],\n",
              "          ...,\n",
              "          [ 0.0000, 22.2222, 26.6667,  0.0000,  0.0000],\n",
              "          [ 0.0000, 23.8889, 27.7778,  0.0000,  0.0000],\n",
              "          [ 0.0000,  8.3333, 16.6667,  0.0000,  0.0000]]), tensor([[25.0000],\n",
              "          [21.6667],\n",
              "          [32.7778],\n",
              "          ...,\n",
              "          [31.1111],\n",
              "          [31.6667],\n",
              "          [25.0000]])], [tensor([[ 1.2700, 23.3333, 26.6667,  0.0000,  1.0000],\n",
              "          [ 4.3180, -3.8889,  0.0000,  7.6200,  0.0000],\n",
              "          [ 0.0000, 18.3333, 23.8889,  0.0000,  0.0000],\n",
              "          ...,\n",
              "          [ 0.0000, 16.1111, 21.6667,  0.0000,  1.0000],\n",
              "          [ 1.0160, 21.6667, 26.1111,  0.0000,  1.0000],\n",
              "          [13.4620, 21.6667, 23.8889,  0.0000,  1.0000]]), tensor([[29.4444],\n",
              "          [ 3.8889],\n",
              "          [29.4444],\n",
              "          ...,\n",
              "          [27.2222],\n",
              "          [30.5556],\n",
              "          [26.1111]])], [tensor([[ 3.0480, 24.4444, 26.6667,  0.0000,  1.0000],\n",
              "          [ 9.3980, 19.4444, 23.3333,  0.0000,  0.0000],\n",
              "          [ 0.0000, 22.7778, 27.7778,  0.0000,  0.0000],\n",
              "          ...,\n",
              "          [ 0.0000,  6.6667, 16.6667,  0.0000,  0.0000],\n",
              "          [ 0.0000, 21.1111, 25.5556,  0.0000,  0.0000],\n",
              "          [ 1.2700, 25.5556, 28.8889,  0.0000,  1.0000]]), tensor([[29.4444],\n",
              "          [26.6667],\n",
              "          [32.2222],\n",
              "          ...,\n",
              "          [26.1111],\n",
              "          [30.0000],\n",
              "          [31.6667]])], [tensor([[ 0.0000,  0.0000,  5.5556,  0.0000,  0.0000],\n",
              "          [ 0.0000, 15.5556, 20.0000,  0.0000,  0.0000],\n",
              "          [ 0.0000, 21.1111, 25.0000,  0.0000,  0.0000],\n",
              "          ...,\n",
              "          [ 0.0000, -0.5556,  3.3333,  0.0000,  0.0000],\n",
              "          [ 0.0000, 21.6667, 24.4444,  0.0000,  0.0000],\n",
              "          [ 0.0000, 20.0000, 26.6667,  0.0000,  0.0000]]), tensor([[11.1111],\n",
              "          [24.4444],\n",
              "          [28.8889],\n",
              "          ...,\n",
              "          [ 7.2222],\n",
              "          [27.7778],\n",
              "          [33.3333]])], [tensor([[  0.0000,  22.2222,  27.7778,   0.0000,   0.0000],\n",
              "          [  0.0000,  16.6667,  25.5556,   0.0000,   0.0000],\n",
              "          [  0.7620, -10.0000,  -3.8889,  27.9400,   0.0000],\n",
              "          ...,\n",
              "          [ 16.0020,  17.7778,  24.4444,   0.0000,   1.0000],\n",
              "          [  1.7780,  22.2222,  26.6667,   0.0000,   0.0000],\n",
              "          [  0.0000,   8.8889,  20.0000,   0.0000,   0.0000]]),\n",
              "  tensor([[33.3333],\n",
              "          [33.8889],\n",
              "          [ 2.2222],\n",
              "          ...,\n",
              "          [30.5556],\n",
              "          [30.5556],\n",
              "          [30.5556]])], [tensor([[ 0.0000, 18.3333, 26.1111,  0.0000,  0.0000],\n",
              "          [12.7000, 17.2222, 22.2222,  0.0000,  0.0000],\n",
              "          [16.5100, 23.8889, 26.6667,  0.0000,  0.0000],\n",
              "          ...,\n",
              "          [ 0.5080, 21.6667, 25.5556,  0.0000,  1.0000],\n",
              "          [ 5.0800, 22.2222, 27.7778,  0.0000,  0.0000],\n",
              "          [ 0.0000, 20.0000, 25.5556,  0.0000,  0.0000]]), tensor([[33.8889],\n",
              "          [27.2222],\n",
              "          [30.0000],\n",
              "          ...,\n",
              "          [29.4444],\n",
              "          [33.3333],\n",
              "          [31.1111]])], [tensor([[ 0.0000, 23.3333, 27.2222,  0.0000,  0.0000],\n",
              "          [ 1.0160, 19.4444, 23.3333,  0.0000,  1.0000],\n",
              "          [ 0.0000, 17.7778, 24.4444,  0.0000,  1.0000],\n",
              "          ...,\n",
              "          [ 0.7620,  0.5556,  3.3333, 17.7800,  1.0000],\n",
              "          [14.4780, 23.8889, 27.7778,  0.0000,  0.0000],\n",
              "          [ 0.0000, 26.1111, 28.8889,  0.0000,  0.0000]]), tensor([[31.1111],\n",
              "          [26.6667],\n",
              "          [30.5556],\n",
              "          ...,\n",
              "          [ 6.1111],\n",
              "          [31.1111],\n",
              "          [31.1111]])], [tensor([[  0.2540,  22.7778,  26.6667,   0.0000,   0.0000],\n",
              "          [  0.0000,   3.8889,   5.5556,   0.0000,   0.0000],\n",
              "          [  0.0000,  21.1111,  25.5556,   0.0000,   0.0000],\n",
              "          ...,\n",
              "          [  3.3020,  23.8889,  27.7778,   0.0000,   1.0000],\n",
              "          [  0.0000,  21.1111,  25.5556,   0.0000,   0.0000],\n",
              "          [  0.0000, -20.5556, -13.8889,   7.6200,   1.0000]]),\n",
              "  tensor([[30.0000],\n",
              "          [ 7.2222],\n",
              "          [29.4444],\n",
              "          ...,\n",
              "          [31.1111],\n",
              "          [30.5556],\n",
              "          [-7.7778]])], [tensor([[ 3.5560, 24.4444, 28.8889,  0.0000,  0.0000],\n",
              "          [ 6.0960, -2.7778,  0.5556,  5.0800,  0.0000],\n",
              "          [ 0.0000, 20.5556, 27.7778,  0.0000,  0.0000],\n",
              "          ...,\n",
              "          [ 4.0640, 23.8889, 26.6667,  0.0000,  1.0000],\n",
              "          [ 0.0000, 28.8889, 33.3333,  0.0000,  0.0000],\n",
              "          [ 0.0000,  7.7778, 17.7778,  0.0000,  0.0000]]), tensor([[33.8889],\n",
              "          [ 3.8889],\n",
              "          [34.4444],\n",
              "          ...,\n",
              "          [29.4444],\n",
              "          [37.7778],\n",
              "          [27.7778]])]]"
            ]
          },
          "execution_count": 41,
          "metadata": {},
          "output_type": "execute_result"
        }
      ],
      "source": [
        "list(train_loader)"
      ]
    },
    {
      "cell_type": "code",
      "execution_count": null,
      "metadata": {
        "colab": {
          "background_save": true,
          "base_uri": "https://localhost:8080/"
        },
        "id": "jbniQvZWd_SF",
        "outputId": "9eb7d631-fd92-4877-f0bc-83549289e844"
      },
      "outputs": [
        {
          "name": "stdout",
          "output_type": "stream",
          "text": [
            "Initial loss {'val_loss': 350293.6875}\n",
            "Epoch [9], val_loss: 326215.1875\n",
            "Epoch [19], val_loss: 302181.1875\n",
            "Epoch [29], val_loss: 278153.2812\n",
            "Epoch [39], val_loss: 254157.3438\n",
            "Epoch [49], val_loss: 230167.7344\n",
            "Epoch [59], val_loss: 206133.5000\n",
            "Epoch [69], val_loss: 182067.2188\n",
            "Epoch [79], val_loss: 158045.8906\n",
            "Epoch [89], val_loss: 134075.4219\n",
            "Epoch [99], val_loss: 110022.0469\n"
          ]
        }
      ],
      "source": [
        "model = WW2TempPredictionModel()\n",
        "print(\"Initial loss\", evaluate(model, val_loader))\n",
        "learning_rate=1e-10\n",
        "history = fit(100 ,learning_rate, model, train_loader, val_loader, early_stopping=True, patience=5)"
      ]
    },
    {
      "cell_type": "code",
      "execution_count": null,
      "metadata": {
        "colab": {
          "background_save": true
        },
        "id": "ye1Gqy3NfHr7"
      },
      "outputs": [],
      "source": [
        "# torch.save(model.state_dict(), 'model_state_dict.pt')\n"
      ]
    },
    {
      "cell_type": "code",
      "execution_count": null,
      "metadata": {
        "colab": {
          "background_save": true
        },
        "id": "6fXI3TJsvFBV",
        "outputId": "8ebf3aab-626f-48e4-bcc2-12dd7b060f0b"
      },
      "outputs": [
        {
          "name": "stdout",
          "output_type": "stream",
          "text": [
            "Model saved to file: ww2_temp_model.pkl\n"
          ]
        }
      ],
      "source": [
        "import pickle\n",
        "\n",
        "filename = 'ww2_temp_model.pkl'\n",
        "with open(filename, 'wb') as f:\n",
        "    pickle.dump(model, f)\n",
        "\n",
        "print(\"Model saved to file:\", filename)"
      ]
    },
    {
      "cell_type": "code",
      "execution_count": null,
      "metadata": {
        "colab": {
          "background_save": true
        },
        "id": "9WW-Rz3xvi2E",
        "outputId": "87a7df23-f9da-4191-a336-7b6a26cfed72"
      },
      "outputs": [
        {
          "data": {
            "application/javascript": [
              "\n",
              "    async function download(id, filename, size) {\n",
              "      if (!google.colab.kernel.accessAllowed) {\n",
              "        return;\n",
              "      }\n",
              "      const div = document.createElement('div');\n",
              "      const label = document.createElement('label');\n",
              "      label.textContent = `Downloading \"${filename}\": `;\n",
              "      div.appendChild(label);\n",
              "      const progress = document.createElement('progress');\n",
              "      progress.max = size;\n",
              "      div.appendChild(progress);\n",
              "      document.body.appendChild(div);\n",
              "\n",
              "      const buffers = [];\n",
              "      let downloaded = 0;\n",
              "\n",
              "      const channel = await google.colab.kernel.comms.open(id);\n",
              "      // Send a message to notify the kernel that we're ready.\n",
              "      channel.send({})\n",
              "\n",
              "      for await (const message of channel.messages) {\n",
              "        // Send a message to notify the kernel that we're ready.\n",
              "        channel.send({})\n",
              "        if (message.buffers) {\n",
              "          for (const buffer of message.buffers) {\n",
              "            buffers.push(buffer);\n",
              "            downloaded += buffer.byteLength;\n",
              "            progress.value = downloaded;\n",
              "          }\n",
              "        }\n",
              "      }\n",
              "      const blob = new Blob(buffers, {type: 'application/binary'});\n",
              "      const a = document.createElement('a');\n",
              "      a.href = window.URL.createObjectURL(blob);\n",
              "      a.download = filename;\n",
              "      div.appendChild(a);\n",
              "      a.click();\n",
              "      div.remove();\n",
              "    }\n",
              "  "
            ],
            "text/plain": [
              "<IPython.core.display.Javascript object>"
            ]
          },
          "metadata": {},
          "output_type": "display_data"
        },
        {
          "data": {
            "application/javascript": [
              "download(\"download_b1e12a54-66fa-4d9c-b918-162361b2c785\", \"ww2_temp_model.pkl\", 1246)"
            ],
            "text/plain": [
              "<IPython.core.display.Javascript object>"
            ]
          },
          "metadata": {},
          "output_type": "display_data"
        }
      ],
      "source": [
        "from google.colab import files\n",
        "\n",
        "files.download('ww2_temp_model.pkl')"
      ]
    },
    {
      "cell_type": "code",
      "execution_count": null,
      "metadata": {
        "colab": {
          "background_save": true
        },
        "id": "oCvv2PUN2c_l",
        "outputId": "437ce55f-ce57-4a28-8e54-6251e4e9c2e0"
      },
      "outputs": [
        {
          "data": {
            "text/plain": [
              "[<matplotlib.lines.Line2D at 0x7f1587e8ddf0>]"
            ]
          },
          "execution_count": 46,
          "metadata": {},
          "output_type": "execute_result"
        },
        {
          "data": {
            "image/png": "[encoded data removed]",
            "text/plain": [
              "<Figure size 432x288 with 1 Axes>"
            ]
          },
          "metadata": {},
          "output_type": "display_data"
        }
      ],
      "source": [
        "plot2 = [x['val_loss'] for x in history]\n",
        "plt.plot(plot2)"
      ]
    },
    {
      "cell_type": "code",
      "execution_count": null,
      "metadata": {
        "colab": {
          "background_save": true
        },
        "id": "ou4EomNG2dCo",
        "outputId": "9de3a319-0c17-4639-fb49-12c83c9d3e74"
      },
      "outputs": [
        {
          "data": {
            "image/png": "[encoded data removed]",
            "text/plain": [
              "<Figure size 432x288 with 1 Axes>"
            ]
          },
          "metadata": {},
          "output_type": "display_data"
        }
      ],
      "source": [
        "losses = [r['val_loss'] for r in  history]\n",
        "plt.plot(losses, '-x')\n",
        "plt.xlabel('epoch')\n",
        "plt.ylabel('val_loss')\n",
        "plt.title('val_loss vs. epochs');"
      ]
    },
    {
      "cell_type": "code",
      "execution_count": null,
      "metadata": {
        "colab": {
          "background_save": true
        },
        "id": "iI2CbE0R2dFy"
      },
      "outputs": [],
      "source": [
        "def predict_single(x, model):\n",
        "    xb = x.unsqueeze(0)\n",
        "    return model(x).item()"
      ]
    },
    {
      "cell_type": "code",
      "execution_count": null,
      "metadata": {
        "colab": {
          "background_save": true
        },
        "id": "D8yDr1AI1zlH",
        "outputId": "e6ad44db-8477-4ffe-d811-d1d28cc94aa3"
      },
      "outputs": [
        {
          "name": "stdout",
          "output_type": "stream",
          "text": [
            "Input:  tensor([ 0.0000, 19.4444, 26.6667,  0.0000,  0.0000])\n",
            "Target:  33.88888931274414\n",
            "Prediction: -7.5954270362854\n"
          ]
        }
      ],
      "source": [
        "x, target = val_ds[10]\n",
        "pred = predict_single(x, model)\n",
        "print(\"Input: \", x)\n",
        "print(\"Target: \", target.item())\n",
        "print(\"Prediction:\", pred)"
      ]
    },
    {
      "cell_type": "code",
      "execution_count": null,
      "metadata": {
        "colab": {
          "background_save": true
        },
        "id": "pAFMPRAUt1Zd",
        "outputId": "47d5dcf8-7241-416b-af23-788b76c2dbbe"
      },
      "outputs": [
        {
          "name": "stdout",
          "output_type": "stream",
          "text": [
            "-2.1830379962921143\n"
          ]
        }
      ],
      "source": [
        "# ['Precip',\t'MinTemp',\t'MeanTemp',\t'Snowfall',\t'PoorWeather']\n",
        "VALUES = torch.tensor([0.0000, 4.9122, 6.7789, 0.0000, 1.0000])\n",
        "target_pred = predict_single(VALUES, model)\n",
        "\n",
        "print(target_pred)"
      ]
    },
    {
      "cell_type": "code",
      "execution_count": null,
      "metadata": {
        "colab": {
          "background_save": true
        },
        "id": "FJaJKw42di2O"
      },
      "outputs": [],
      "source": [
        "class ImprovedWW2TempPreidictionModel(nn.Module):\n",
        "    def __init__(self, input_dim, hidden_dim, output_dim):\n",
        "        super().__init__()\n",
        "        self.linear1 = nn.Linear(input_dim, hidden_dim) #   self.relu = nn.ReLU()\n",
        "        self.linear2 = nn.Linear(hidden_dim, output_dim)\n",
        "\n",
        "    def forward(self, xb):\n",
        "        out = F.relu(self.linear1(xb))\n",
        "        out = self.linear2(out)\n",
        "        return out\n",
        "\n",
        "    def training_step(self, batch):\n",
        "        inputs, targets = batch\n",
        "        out = self(inputs)\n",
        "        loss = F.l1_loss(out, targets)   # mse\n",
        "        return loss\n",
        "\n",
        "    def validation_step(self, batch):\n",
        "        inputs, targets = batch\n",
        "        out = self(inputs)\n",
        "        loss = F.l1_loss(out, targets)    # mse\n",
        "        return {'val_loss': loss.detach()}\n",
        "\n",
        "    def validation_epoch_end(self, outputs):\n",
        "        batch_losses = [x['val_loss'] for x in outputs]\n",
        "        epoch_loss = torch.stack(batch_losses).mean()\n",
        "        return {'val_loss': epoch_loss.item()}\n",
        "\n",
        "    def epoch_end(self, epoch, result,num_epochs):\n",
        "        if (epoch+1) % 10 == 0 or epoch == num_epochs-1:\n",
        "            print(\"Epoch [{}], val_loss: {:.4f}\".format(epoch, result['val_loss']))\n"
      ]
    },
    {
      "cell_type": "code",
      "execution_count": null,
      "metadata": {
        "colab": {
          "background_save": true
        },
        "id": "gCi0qTsOfLEu",
        "outputId": "9237ea7f-2868-4311-c1f2-36077ecf0bfb"
      },
      "outputs": [
        {
          "name": "stdout",
          "output_type": "stream",
          "text": [
            "tensor([[ 0.0000, 15.0000, 21.1111,  0.0000,  0.0000],\n",
            "        [ 0.0000, 22.7778, 26.6667,  0.0000,  0.0000],\n",
            "        [ 1.0160, 22.2222, 26.6667,  0.0000,  1.0000],\n",
            "        ...,\n",
            "        [ 0.0000, 26.1111, 27.7778,  0.0000,  1.0000],\n",
            "        [28.4480, 20.5556, 26.6667,  0.0000,  1.0000],\n",
            "        [ 0.2540,  2.7778,  5.5556,  0.0000,  1.0000]])\n"
          ]
        }
      ],
      "source": [
        "inputs, targets = next(iter(train_loader))\n",
        "input_features = inputs.shape[1]\n",
        "print(inputs)\n",
        "# input_dim = 5\n",
        "# hidden_dim = 32\n",
        "# output_dim = 1"
      ]
    },
    {
      "cell_type": "code",
      "execution_count": null,
      "metadata": {
        "colab": {
          "background_save": true
        },
        "id": "w6xya09L0vOK"
      },
      "outputs": [],
      "source": [
        "# def model_factory(layers, activation, opt_class, lr):\n",
        "#     model = WW2TempPredictionModel()\n",
        "#     opt = opt_class(model.parameters(), lr=lr)\n",
        "#     return model, opt"
      ]
    },
    {
      "cell_type": "code",
      "execution_count": null,
      "metadata": {
        "colab": {
          "background_save": true
        },
        "id": "sH-bKW5UdjFl",
        "outputId": "fb4ff8ee-414e-414d-f3f4-58d552675a13"
      },
      "outputs": [
        {
          "name": "stdout",
          "output_type": "stream",
          "text": [
            "Initial loss {'val_loss': 77799.5625}\n",
            "Epoch [9], val_loss: 62641.9883\n",
            "Epoch [19], val_loss: 47660.7695\n",
            "Epoch [29], val_loss: 34075.7812\n",
            "Epoch [39], val_loss: 20555.4805\n",
            "Epoch [49], val_loss: 7042.9648\n",
            "Epoch [59], val_loss: 110.2171\n",
            "Epoch [69], val_loss: 27.9425\n"
          ]
        }
      ],
      "source": [
        "model = ImprovedWW2TempPreidictionModel(input_dim=5,hidden_dim=16, output_dim=1)\n",
        "print(\"Initial loss\", evaluate(model, val_loader))\n",
        "learning_rate=1e-10\n",
        "history = fit(100 ,learning_rate, model, train_loader, val_loader, early_stopping=True, patience=5)"
      ]
    },
    {
      "cell_type": "code",
      "execution_count": null,
      "metadata": {
        "id": "Sfca2A4myx5S"
      },
      "outputs": [],
      "source": [
        "from sklearn.preprocessing import StandardScaler\n",
        "\n",
        "class BetterWW2TempPredictionModel(nn.Module):\n",
        "    def __init__(self, input_dim, hidden_dim, output_dim):\n",
        "        super().__init__()\n",
        "        self.scaler = StandardScaler()\n",
        "        self.linear1 = nn.Linear(input_dim, hidden_dim)\n",
        "        self.linear2 = nn.Linear(hidden_dim, hidden_dim)\n",
        "        self.linear3 = nn.Linear(hidden_dim, output_dim)\n",
        "\n",
        "    def forward(self, xb):\n",
        "        xb = self.scaler.transform(xb)\n",
        "        out = F.relu(self.linear1(xb))\n",
        "        out = F.relu(self.linear2(out))\n",
        "        out = self.linear3(out)\n",
        "        return out\n",
        "\n",
        "    def training_step(self, batch):\n",
        "        inputs, targets = batch\n",
        "        out = self(inputs)\n",
        "        loss = F.mse_loss(out, targets)\n",
        "        return loss\n",
        "\n",
        "    def validation_step(self, batch):\n",
        "        inputs, targets = batch\n",
        "        out = self(inputs)\n",
        "        loss = F.mse_loss(out, targets)\n",
        "        return {'val_loss': loss.detach()}\n",
        "\n",
        "    def validation_epoch_end(self, outputs):\n",
        "        batch_losses = [x['val_loss'] for x in outputs]\n",
        "        epoch_loss = torch.stack(batch_losses).mean()\n",
        "        return {'val_loss': epoch_loss.item()}\n",
        "\n",
        "    def epoch_end(self, epoch, result, num_epochs):\n",
        "        if (epoch+1) % 10 == 0 or epoch == num_epochs-1:\n",
        "            print(\"Epoch [{}], val_loss: {:.4f}\".format(epoch, result['val_loss']))\n"
      ]
    },
    {
      "cell_type": "code",
      "execution_count": null,
      "metadata": {
        "colab": {
          "background_save": true
        },
        "id": "ks1mtAlW-OQs",
        "outputId": "eedb9e87-8eba-48e5-f7cd-03c24f652305"
      },
      "outputs": [
        {
          "name": "stdout",
          "output_type": "stream",
          "text": [
            "/content\n"
          ]
        }
      ],
      "source": [
        "import os\n",
        "cwd = os.getcwd()\n",
        "print(cwd)"
      ]
    },
    {
      "cell_type": "code",
      "execution_count": null,
      "metadata": {
        "colab": {
          "background_save": true
        },
        "id": "kJkaU6dK-lnR"
      },
      "outputs": [],
      "source": [
        "torch.save(model.state_dict(), 'improved_model.pth')"
      ]
    },
    {
      "cell_type": "code",
      "execution_count": null,
      "metadata": {
        "colab": {
          "background_save": true
        },
        "id": "UvlPwlXo3IzL",
        "outputId": "9cd40d9c-e9e0-4e65-bc64-003c072e900c"
      },
      "outputs": [
        {
          "data": {
            "text/plain": [
              "['ww2_improved_model.joblib']"
            ]
          },
          "execution_count": 57,
          "metadata": {},
          "output_type": "execute_result"
        }
      ],
      "source": [
        "import joblib\n",
        "joblib.dump(model, 'ww2_improved_model.joblib')"
      ]
    },
    {
      "cell_type": "code",
      "execution_count": null,
      "metadata": {
        "colab": {
          "background_save": true
        },
        "id": "Jd8_AqZK3xIz",
        "outputId": "10d18c9b-6116-4fdc-907c-39ab722f022c"
      },
      "outputs": [
        {
          "data": {
            "application/javascript": [
              "\n",
              "    async function download(id, filename, size) {\n",
              "      if (!google.colab.kernel.accessAllowed) {\n",
              "        return;\n",
              "      }\n",
              "      const div = document.createElement('div');\n",
              "      const label = document.createElement('label');\n",
              "      label.textContent = `Downloading \"${filename}\": `;\n",
              "      div.appendChild(label);\n",
              "      const progress = document.createElement('progress');\n",
              "      progress.max = size;\n",
              "      div.appendChild(progress);\n",
              "      document.body.appendChild(div);\n",
              "\n",
              "      const buffers = [];\n",
              "      let downloaded = 0;\n",
              "\n",
              "      const channel = await google.colab.kernel.comms.open(id);\n",
              "      // Send a message to notify the kernel that we're ready.\n",
              "      channel.send({})\n",
              "\n",
              "      for await (const message of channel.messages) {\n",
              "        // Send a message to notify the kernel that we're ready.\n",
              "        channel.send({})\n",
              "        if (message.buffers) {\n",
              "          for (const buffer of message.buffers) {\n",
              "            buffers.push(buffer);\n",
              "            downloaded += buffer.byteLength;\n",
              "            progress.value = downloaded;\n",
              "          }\n",
              "        }\n",
              "      }\n",
              "      const blob = new Blob(buffers, {type: 'application/binary'});\n",
              "      const a = document.createElement('a');\n",
              "      a.href = window.URL.createObjectURL(blob);\n",
              "      a.download = filename;\n",
              "      div.appendChild(a);\n",
              "      a.click();\n",
              "      div.remove();\n",
              "    }\n",
              "  "
            ],
            "text/plain": [
              "<IPython.core.display.Javascript object>"
            ]
          },
          "metadata": {},
          "output_type": "display_data"
        },
        {
          "data": {
            "application/javascript": [
              "download(\"download_5f00c155-fb4a-4900-9bcc-4c53fe4fae72\", \"ww2_improved_model.joblib\", 2372)"
            ],
            "text/plain": [
              "<IPython.core.display.Javascript object>"
            ]
          },
          "metadata": {},
          "output_type": "display_data"
        }
      ],
      "source": [
        "\n",
        "files.download('ww2_improved_model.joblib')"
      ]
    },
    {
      "cell_type": "code",
      "execution_count": null,
      "metadata": {
        "colab": {
          "background_save": true
        },
        "id": "AivakhPnOOeD"
      },
      "outputs": [],
      "source": [
        "def grid_search(model, train_loader, val_loader, optimizer_list, lr_list, num_epochs_list):\n",
        "    best_model = None\n",
        "    best_val_loss = float(\"inf\")\n",
        "\n",
        "    for optimizer in optimizer_list:\n",
        "        for lr in lr_list:\n",
        "            for num_epochs in num_epochs_list:\n",
        "                model.optimizer = optimizer(model.parameters(), lr=lr)\n",
        "\n",
        "                for epoch in range(num_epochs):\n",
        "                    print(f\"\\nStarting epoch {epoch+1}/{num_epochs} with optimizer {optimizer} and learning rate {lr}\")\n",
        "                    for inputs, targets in train_loader:\n",
        "                        loss = model.training_step((inputs, targets))\n",
        "                        loss.backward()\n",
        "                        model.optimizer.step()\n",
        "                        model.optimizer.zero_grad()\n",
        "\n",
        "                    result = {'val_loss': []}\n",
        "                    for inputs, targets in val_loader:\n",
        "                        res = model.validation_step((inputs, targets))\n",
        "                        result['val_loss'].append(res['val_loss'])\n",
        "\n",
        "                    epoch_loss = torch.stack(result['val_loss']).mean().item()\n",
        "                    if epoch_loss < best_val_loss:\n",
        "                        best_val_loss = epoch_loss\n",
        "                        best_model = model\n",
        "                    print(f\"Epoch {epoch+1}/{num_epochs} completed with validation loss {epoch_loss:.4f}\")\n",
        "\n",
        "                print(f\"\\nlr={lr}, num_epochs={num_epochs}, val_loss={best_val_loss:.4f}\")\n",
        "    return {'optimizer': optimizer, 'lr': lr, 'num_epochs': num_epochs, 'model': best_model}\n",
        "\n"
      ]
    },
    {
      "cell_type": "code",
      "execution_count": null,
      "metadata": {
        "colab": {
          "background_save": true,
          "base_uri": "https://localhost:8080/"
        },
        "id": "xe6Pl5KuOSm2",
        "outputId": "e0cb870c-58a8-4800-c4d3-be275ea07048"
      },
      "outputs": [
        {
          "name": "stdout",
          "output_type": "stream",
          "text": [
            "\n",
            "Starting epoch 1/10 with optimizer <class 'torch.optim.adam.Adam'> and learning rate 0.01\n",
            "Epoch 1/10 completed with validation loss 2218.9507\n",
            "\n",
            "Starting epoch 2/10 with optimizer <class 'torch.optim.adam.Adam'> and learning rate 0.01\n",
            "Epoch 2/10 completed with validation loss 9439.7754\n",
            "\n",
            "Starting epoch 3/10 with optimizer <class 'torch.optim.adam.Adam'> and learning rate 0.01\n",
            "Epoch 3/10 completed with validation loss 3734.8892\n",
            "\n",
            "Starting epoch 4/10 with optimizer <class 'torch.optim.adam.Adam'> and learning rate 0.01\n",
            "Epoch 4/10 completed with validation loss 3275.8740\n",
            "\n",
            "Starting epoch 5/10 with optimizer <class 'torch.optim.adam.Adam'> and learning rate 0.01\n",
            "Epoch 5/10 completed with validation loss 31.0858\n",
            "\n",
            "Starting epoch 6/10 with optimizer <class 'torch.optim.adam.Adam'> and learning rate 0.01\n",
            "Epoch 6/10 completed with validation loss 1498.0786\n",
            "\n",
            "Starting epoch 7/10 with optimizer <class 'torch.optim.adam.Adam'> and learning rate 0.01\n",
            "Epoch 7/10 completed with validation loss 4955.6914\n",
            "\n",
            "Starting epoch 8/10 with optimizer <class 'torch.optim.adam.Adam'> and learning rate 0.01\n",
            "Epoch 8/10 completed with validation loss 1682.6654\n",
            "\n",
            "Starting epoch 9/10 with optimizer <class 'torch.optim.adam.Adam'> and learning rate 0.01\n",
            "Epoch 9/10 completed with validation loss 2971.5461\n",
            "\n",
            "Starting epoch 10/10 with optimizer <class 'torch.optim.adam.Adam'> and learning rate 0.01\n",
            "Epoch 10/10 completed with validation loss 5495.1436\n",
            "\n",
            "lr=0.01, num_epochs=10, val_loss=31.0858\n",
            "\n",
            "Starting epoch 1/20 with optimizer <class 'torch.optim.adam.Adam'> and learning rate 0.01\n",
            "Epoch 1/20 completed with validation loss 6510.9121\n",
            "\n",
            "Starting epoch 2/20 with optimizer <class 'torch.optim.adam.Adam'> and learning rate 0.01\n",
            "Epoch 2/20 completed with validation loss 7389.8252\n",
            "\n",
            "Starting epoch 3/20 with optimizer <class 'torch.optim.adam.Adam'> and learning rate 0.01\n",
            "Epoch 3/20 completed with validation loss 661.4604\n",
            "\n",
            "Starting epoch 4/20 with optimizer <class 'torch.optim.adam.Adam'> and learning rate 0.01\n",
            "Epoch 4/20 completed with validation loss 4190.3555\n",
            "\n",
            "Starting epoch 5/20 with optimizer <class 'torch.optim.adam.Adam'> and learning rate 0.01\n",
            "Epoch 5/20 completed with validation loss 11069.8711\n",
            "\n",
            "Starting epoch 6/20 with optimizer <class 'torch.optim.adam.Adam'> and learning rate 0.01\n",
            "Epoch 6/20 completed with validation loss 588.9586\n",
            "\n",
            "Starting epoch 7/20 with optimizer <class 'torch.optim.adam.Adam'> and learning rate 0.01\n",
            "Epoch 7/20 completed with validation loss 22751.0352\n",
            "\n",
            "Starting epoch 8/20 with optimizer <class 'torch.optim.adam.Adam'> and learning rate 0.01\n",
            "Epoch 8/20 completed with validation loss 2115.4524\n",
            "\n",
            "Starting epoch 9/20 with optimizer <class 'torch.optim.adam.Adam'> and learning rate 0.01\n",
            "Epoch 9/20 completed with validation loss 4449.1782\n",
            "\n",
            "Starting epoch 10/20 with optimizer <class 'torch.optim.adam.Adam'> and learning rate 0.01\n",
            "Epoch 10/20 completed with validation loss 4024.6460\n",
            "\n",
            "Starting epoch 11/20 with optimizer <class 'torch.optim.adam.Adam'> and learning rate 0.01\n",
            "Epoch 11/20 completed with validation loss 9965.4980\n",
            "\n",
            "Starting epoch 12/20 with optimizer <class 'torch.optim.adam.Adam'> and learning rate 0.01\n",
            "Epoch 12/20 completed with validation loss 244.2800\n",
            "\n",
            "Starting epoch 13/20 with optimizer <class 'torch.optim.adam.Adam'> and learning rate 0.01\n",
            "Epoch 13/20 completed with validation loss 4143.7983\n",
            "\n",
            "Starting epoch 14/20 with optimizer <class 'torch.optim.adam.Adam'> and learning rate 0.01\n",
            "Epoch 14/20 completed with validation loss 7392.4048\n",
            "\n",
            "Starting epoch 15/20 with optimizer <class 'torch.optim.adam.Adam'> and learning rate 0.01\n",
            "Epoch 15/20 completed with validation loss 5542.7173\n",
            "\n",
            "Starting epoch 16/20 with optimizer <class 'torch.optim.adam.Adam'> and learning rate 0.01\n",
            "Epoch 16/20 completed with validation loss 10061.7520\n",
            "\n",
            "Starting epoch 17/20 with optimizer <class 'torch.optim.adam.Adam'> and learning rate 0.01\n",
            "Epoch 17/20 completed with validation loss 6562.5605\n",
            "\n",
            "Starting epoch 18/20 with optimizer <class 'torch.optim.adam.Adam'> and learning rate 0.01\n",
            "Epoch 18/20 completed with validation loss 5092.9697\n",
            "\n",
            "Starting epoch 19/20 with optimizer <class 'torch.optim.adam.Adam'> and learning rate 0.01\n",
            "Epoch 19/20 completed with validation loss 2703.1084\n",
            "\n",
            "Starting epoch 20/20 with optimizer <class 'torch.optim.adam.Adam'> and learning rate 0.01\n",
            "Epoch 20/20 completed with validation loss 4871.6836\n",
            "\n",
            "lr=0.01, num_epochs=20, val_loss=31.0858\n",
            "\n",
            "Starting epoch 1/30 with optimizer <class 'torch.optim.adam.Adam'> and learning rate 0.01\n",
            "Epoch 1/30 completed with validation loss 19609.6562\n",
            "\n",
            "Starting epoch 2/30 with optimizer <class 'torch.optim.adam.Adam'> and learning rate 0.01\n",
            "Epoch 2/30 completed with validation loss 9657.0762\n",
            "\n",
            "Starting epoch 3/30 with optimizer <class 'torch.optim.adam.Adam'> and learning rate 0.01\n",
            "Epoch 3/30 completed with validation loss 3565.9133\n",
            "\n",
            "Starting epoch 4/30 with optimizer <class 'torch.optim.adam.Adam'> and learning rate 0.01\n",
            "Epoch 4/30 completed with validation loss 4884.7617\n",
            "\n",
            "Starting epoch 5/30 with optimizer <class 'torch.optim.adam.Adam'> and learning rate 0.01\n",
            "Epoch 5/30 completed with validation loss 8641.7949\n",
            "\n",
            "Starting epoch 6/30 with optimizer <class 'torch.optim.adam.Adam'> and learning rate 0.01\n",
            "Epoch 6/30 completed with validation loss 311.0824\n",
            "\n",
            "Starting epoch 7/30 with optimizer <class 'torch.optim.adam.Adam'> and learning rate 0.01\n",
            "Epoch 7/30 completed with validation loss 365.5350\n",
            "\n",
            "Starting epoch 8/30 with optimizer <class 'torch.optim.adam.Adam'> and learning rate 0.01\n",
            "Epoch 8/30 completed with validation loss 3026.6697\n",
            "\n",
            "Starting epoch 9/30 with optimizer <class 'torch.optim.adam.Adam'> and learning rate 0.01\n",
            "Epoch 9/30 completed with validation loss 5819.6724\n",
            "\n",
            "Starting epoch 10/30 with optimizer <class 'torch.optim.adam.Adam'> and learning rate 0.01\n",
            "Epoch 10/30 completed with validation loss 2230.4678\n",
            "\n",
            "Starting epoch 11/30 with optimizer <class 'torch.optim.adam.Adam'> and learning rate 0.01\n",
            "Epoch 11/30 completed with validation loss 5184.5469\n",
            "\n",
            "Starting epoch 12/30 with optimizer <class 'torch.optim.adam.Adam'> and learning rate 0.01\n",
            "Epoch 12/30 completed with validation loss 4386.9971\n",
            "\n",
            "Starting epoch 13/30 with optimizer <class 'torch.optim.adam.Adam'> and learning rate 0.01\n",
            "Epoch 13/30 completed with validation loss 375.4108\n",
            "\n",
            "Starting epoch 14/30 with optimizer <class 'torch.optim.adam.Adam'> and learning rate 0.01\n",
            "Epoch 14/30 completed with validation loss 4552.7437\n",
            "\n",
            "Starting epoch 15/30 with optimizer <class 'torch.optim.adam.Adam'> and learning rate 0.01\n",
            "Epoch 15/30 completed with validation loss 5729.7852\n",
            "\n",
            "Starting epoch 16/30 with optimizer <class 'torch.optim.adam.Adam'> and learning rate 0.01\n",
            "Epoch 16/30 completed with validation loss 5905.8291\n",
            "\n",
            "Starting epoch 17/30 with optimizer <class 'torch.optim.adam.Adam'> and learning rate 0.01\n",
            "Epoch 17/30 completed with validation loss 1710.0354\n",
            "\n",
            "Starting epoch 18/30 with optimizer <class 'torch.optim.adam.Adam'> and learning rate 0.01\n",
            "Epoch 18/30 completed with validation loss 3119.0417\n",
            "\n",
            "Starting epoch 19/30 with optimizer <class 'torch.optim.adam.Adam'> and learning rate 0.01\n",
            "Epoch 19/30 completed with validation loss 3732.4492\n",
            "\n",
            "Starting epoch 20/30 with optimizer <class 'torch.optim.adam.Adam'> and learning rate 0.01\n",
            "Epoch 20/30 completed with validation loss 2421.2346\n",
            "\n",
            "Starting epoch 21/30 with optimizer <class 'torch.optim.adam.Adam'> and learning rate 0.01\n",
            "Epoch 21/30 completed with validation loss 2311.5215\n",
            "\n",
            "Starting epoch 22/30 with optimizer <class 'torch.optim.adam.Adam'> and learning rate 0.01\n",
            "Epoch 22/30 completed with validation loss 2436.9863\n",
            "\n",
            "Starting epoch 23/30 with optimizer <class 'torch.optim.adam.Adam'> and learning rate 0.01\n",
            "Epoch 23/30 completed with validation loss 1721.8125\n",
            "\n",
            "Starting epoch 24/30 with optimizer <class 'torch.optim.adam.Adam'> and learning rate 0.01\n",
            "Epoch 24/30 completed with validation loss 5402.4585\n",
            "\n",
            "Starting epoch 25/30 with optimizer <class 'torch.optim.adam.Adam'> and learning rate 0.01\n",
            "Epoch 25/30 completed with validation loss 7165.7646\n",
            "\n",
            "Starting epoch 26/30 with optimizer <class 'torch.optim.adam.Adam'> and learning rate 0.01\n",
            "Epoch 26/30 completed with validation loss 4396.0649\n",
            "\n",
            "Starting epoch 27/30 with optimizer <class 'torch.optim.adam.Adam'> and learning rate 0.01\n",
            "Epoch 27/30 completed with validation loss 51.0599\n",
            "\n",
            "Starting epoch 28/30 with optimizer <class 'torch.optim.adam.Adam'> and learning rate 0.01\n",
            "Epoch 28/30 completed with validation loss 943.3053\n",
            "\n",
            "Starting epoch 29/30 with optimizer <class 'torch.optim.adam.Adam'> and learning rate 0.01\n",
            "Epoch 29/30 completed with validation loss 2114.0613\n",
            "\n",
            "Starting epoch 30/30 with optimizer <class 'torch.optim.adam.Adam'> and learning rate 0.01\n",
            "Epoch 30/30 completed with validation loss 109.8961\n",
            "\n",
            "lr=0.01, num_epochs=30, val_loss=31.0858\n",
            "\n",
            "Starting epoch 1/10 with optimizer <class 'torch.optim.adam.Adam'> and learning rate 0.001\n",
            "Epoch 1/10 completed with validation loss 1462.9629\n",
            "\n",
            "Starting epoch 2/10 with optimizer <class 'torch.optim.adam.Adam'> and learning rate 0.001\n",
            "Epoch 2/10 completed with validation loss 104.0305\n",
            "\n",
            "Starting epoch 3/10 with optimizer <class 'torch.optim.adam.Adam'> and learning rate 0.001\n",
            "Epoch 3/10 completed with validation loss 117.2051\n",
            "\n",
            "Starting epoch 4/10 with optimizer <class 'torch.optim.adam.Adam'> and learning rate 0.001\n",
            "Epoch 4/10 completed with validation loss 386.5082\n",
            "\n",
            "Starting epoch 5/10 with optimizer <class 'torch.optim.adam.Adam'> and learning rate 0.001\n",
            "Epoch 5/10 completed with validation loss 202.3637\n",
            "\n",
            "Starting epoch 6/10 with optimizer <class 'torch.optim.adam.Adam'> and learning rate 0.001\n",
            "Epoch 6/10 completed with validation loss 611.4034\n",
            "\n",
            "Starting epoch 7/10 with optimizer <class 'torch.optim.adam.Adam'> and learning rate 0.001\n",
            "Epoch 7/10 completed with validation loss 89.6207\n",
            "\n",
            "Starting epoch 8/10 with optimizer <class 'torch.optim.adam.Adam'> and learning rate 0.001\n",
            "Epoch 8/10 completed with validation loss 259.9765\n",
            "\n",
            "Starting epoch 9/10 with optimizer <class 'torch.optim.adam.Adam'> and learning rate 0.001\n",
            "Epoch 9/10 completed with validation loss 477.1227\n",
            "\n",
            "Starting epoch 10/10 with optimizer <class 'torch.optim.adam.Adam'> and learning rate 0.001\n",
            "Epoch 10/10 completed with validation loss 385.1536\n",
            "\n",
            "lr=0.001, num_epochs=10, val_loss=31.0858\n",
            "\n",
            "Starting epoch 1/20 with optimizer <class 'torch.optim.adam.Adam'> and learning rate 0.001\n",
            "Epoch 1/20 completed with validation loss 713.4888\n",
            "\n",
            "Starting epoch 2/20 with optimizer <class 'torch.optim.adam.Adam'> and learning rate 0.001\n",
            "Epoch 2/20 completed with validation loss 131.2553\n",
            "\n",
            "Starting epoch 3/20 with optimizer <class 'torch.optim.adam.Adam'> and learning rate 0.001\n",
            "Epoch 3/20 completed with validation loss 840.7719\n",
            "\n",
            "Starting epoch 4/20 with optimizer <class 'torch.optim.adam.Adam'> and learning rate 0.001\n",
            "Epoch 4/20 completed with validation loss 374.6054\n",
            "\n",
            "Starting epoch 5/20 with optimizer <class 'torch.optim.adam.Adam'> and learning rate 0.001\n",
            "Epoch 5/20 completed with validation loss 318.6875\n",
            "\n",
            "Starting epoch 6/20 with optimizer <class 'torch.optim.adam.Adam'> and learning rate 0.001\n",
            "Epoch 6/20 completed with validation loss 29.4667\n",
            "\n",
            "Starting epoch 7/20 with optimizer <class 'torch.optim.adam.Adam'> and learning rate 0.001\n",
            "Epoch 7/20 completed with validation loss 279.4370\n",
            "\n",
            "Starting epoch 8/20 with optimizer <class 'torch.optim.adam.Adam'> and learning rate 0.001\n",
            "Epoch 8/20 completed with validation loss 744.4251\n",
            "\n",
            "Starting epoch 9/20 with optimizer <class 'torch.optim.adam.Adam'> and learning rate 0.001\n",
            "Epoch 9/20 completed with validation loss 680.9786\n",
            "\n",
            "Starting epoch 10/20 with optimizer <class 'torch.optim.adam.Adam'> and learning rate 0.001\n",
            "Epoch 10/20 completed with validation loss 289.8950\n",
            "\n",
            "Starting epoch 11/20 with optimizer <class 'torch.optim.adam.Adam'> and learning rate 0.001\n",
            "Epoch 11/20 completed with validation loss 625.8877\n",
            "\n",
            "Starting epoch 12/20 with optimizer <class 'torch.optim.adam.Adam'> and learning rate 0.001\n",
            "Epoch 12/20 completed with validation loss 80.4093\n",
            "\n",
            "Starting epoch 13/20 with optimizer <class 'torch.optim.adam.Adam'> and learning rate 0.001\n",
            "Epoch 13/20 completed with validation loss 204.4109\n",
            "\n",
            "Starting epoch 14/20 with optimizer <class 'torch.optim.adam.Adam'> and learning rate 0.001\n",
            "Epoch 14/20 completed with validation loss 88.0248\n",
            "\n",
            "Starting epoch 15/20 with optimizer <class 'torch.optim.adam.Adam'> and learning rate 0.001\n",
            "Epoch 15/20 completed with validation loss 316.0175\n",
            "\n",
            "Starting epoch 16/20 with optimizer <class 'torch.optim.adam.Adam'> and learning rate 0.001\n",
            "Epoch 16/20 completed with validation loss 102.5505\n",
            "\n",
            "Starting epoch 17/20 with optimizer <class 'torch.optim.adam.Adam'> and learning rate 0.001\n",
            "Epoch 17/20 completed with validation loss 1291.7479\n",
            "\n",
            "Starting epoch 18/20 with optimizer <class 'torch.optim.adam.Adam'> and learning rate 0.001\n",
            "Epoch 18/20 completed with validation loss 444.0308\n",
            "\n",
            "Starting epoch 19/20 with optimizer <class 'torch.optim.adam.Adam'> and learning rate 0.001\n",
            "Epoch 19/20 completed with validation loss 256.5801\n",
            "\n",
            "Starting epoch 20/20 with optimizer <class 'torch.optim.adam.Adam'> and learning rate 0.001\n",
            "Epoch 20/20 completed with validation loss 236.6731\n",
            "\n",
            "lr=0.001, num_epochs=20, val_loss=29.4667\n",
            "\n",
            "Starting epoch 1/30 with optimizer <class 'torch.optim.adam.Adam'> and learning rate 0.001\n",
            "Epoch 1/30 completed with validation loss 364.3664\n",
            "\n",
            "Starting epoch 2/30 with optimizer <class 'torch.optim.adam.Adam'> and learning rate 0.001\n",
            "Epoch 2/30 completed with validation loss 374.9734\n",
            "\n",
            "Starting epoch 3/30 with optimizer <class 'torch.optim.adam.Adam'> and learning rate 0.001\n",
            "Epoch 3/30 completed with validation loss 34.6952\n",
            "\n",
            "Starting epoch 4/30 with optimizer <class 'torch.optim.adam.Adam'> and learning rate 0.001\n",
            "Epoch 4/30 completed with validation loss 97.1146\n",
            "\n",
            "Starting epoch 5/30 with optimizer <class 'torch.optim.adam.Adam'> and learning rate 0.001\n",
            "Epoch 5/30 completed with validation loss 61.1455\n",
            "\n",
            "Starting epoch 6/30 with optimizer <class 'torch.optim.adam.Adam'> and learning rate 0.001\n",
            "Epoch 6/30 completed with validation loss 602.5451\n",
            "\n",
            "Starting epoch 7/30 with optimizer <class 'torch.optim.adam.Adam'> and learning rate 0.001\n",
            "Epoch 7/30 completed with validation loss 611.0658\n",
            "\n",
            "Starting epoch 8/30 with optimizer <class 'torch.optim.adam.Adam'> and learning rate 0.001\n",
            "Epoch 8/30 completed with validation loss 518.3465\n",
            "\n",
            "Starting epoch 9/30 with optimizer <class 'torch.optim.adam.Adam'> and learning rate 0.001\n",
            "Epoch 9/30 completed with validation loss 13.2260\n",
            "\n",
            "Starting epoch 10/30 with optimizer <class 'torch.optim.adam.Adam'> and learning rate 0.001\n",
            "Epoch 10/30 completed with validation loss 50.0583\n",
            "\n",
            "Starting epoch 11/30 with optimizer <class 'torch.optim.adam.Adam'> and learning rate 0.001\n",
            "Epoch 11/30 completed with validation loss 307.8365\n",
            "\n",
            "Starting epoch 12/30 with optimizer <class 'torch.optim.adam.Adam'> and learning rate 0.001\n",
            "Epoch 12/30 completed with validation loss 88.5176\n",
            "\n",
            "Starting epoch 13/30 with optimizer <class 'torch.optim.adam.Adam'> and learning rate 0.001\n",
            "Epoch 13/30 completed with validation loss 303.8223\n",
            "\n",
            "Starting epoch 14/30 with optimizer <class 'torch.optim.adam.Adam'> and learning rate 0.001\n",
            "Epoch 14/30 completed with validation loss 396.0496\n",
            "\n",
            "Starting epoch 15/30 with optimizer <class 'torch.optim.adam.Adam'> and learning rate 0.001\n",
            "Epoch 15/30 completed with validation loss 48.0452\n",
            "\n",
            "Starting epoch 16/30 with optimizer <class 'torch.optim.adam.Adam'> and learning rate 0.001\n",
            "Epoch 16/30 completed with validation loss 430.8072\n",
            "\n",
            "Starting epoch 17/30 with optimizer <class 'torch.optim.adam.Adam'> and learning rate 0.001\n",
            "Epoch 17/30 completed with validation loss 371.4968\n",
            "\n",
            "Starting epoch 18/30 with optimizer <class 'torch.optim.adam.Adam'> and learning rate 0.001\n",
            "Epoch 18/30 completed with validation loss 230.9084\n",
            "\n",
            "Starting epoch 19/30 with optimizer <class 'torch.optim.adam.Adam'> and learning rate 0.001\n",
            "Epoch 19/30 completed with validation loss 294.0323\n",
            "\n",
            "Starting epoch 20/30 with optimizer <class 'torch.optim.adam.Adam'> and learning rate 0.001\n",
            "Epoch 20/30 completed with validation loss 412.3198\n",
            "\n",
            "Starting epoch 21/30 with optimizer <class 'torch.optim.adam.Adam'> and learning rate 0.001\n",
            "Epoch 21/30 completed with validation loss 396.4367\n",
            "\n",
            "Starting epoch 22/30 with optimizer <class 'torch.optim.adam.Adam'> and learning rate 0.001\n",
            "Epoch 22/30 completed with validation loss 332.3748\n",
            "\n",
            "Starting epoch 23/30 with optimizer <class 'torch.optim.adam.Adam'> and learning rate 0.001\n",
            "Epoch 23/30 completed with validation loss 702.4393\n",
            "\n",
            "Starting epoch 24/30 with optimizer <class 'torch.optim.adam.Adam'> and learning rate 0.001\n",
            "Epoch 24/30 completed with validation loss 790.0416\n",
            "\n",
            "Starting epoch 25/30 with optimizer <class 'torch.optim.adam.Adam'> and learning rate 0.001\n",
            "Epoch 25/30 completed with validation loss 189.7614\n",
            "\n",
            "Starting epoch 26/30 with optimizer <class 'torch.optim.adam.Adam'> and learning rate 0.001\n",
            "Epoch 26/30 completed with validation loss 302.4221\n",
            "\n",
            "Starting epoch 27/30 with optimizer <class 'torch.optim.adam.Adam'> and learning rate 0.001\n",
            "Epoch 27/30 completed with validation loss 129.9530\n",
            "\n",
            "Starting epoch 28/30 with optimizer <class 'torch.optim.adam.Adam'> and learning rate 0.001\n",
            "Epoch 28/30 completed with validation loss 162.1862\n",
            "\n",
            "Starting epoch 29/30 with optimizer <class 'torch.optim.adam.Adam'> and learning rate 0.001\n",
            "Epoch 29/30 completed with validation loss 76.6729\n",
            "\n",
            "Starting epoch 30/30 with optimizer <class 'torch.optim.adam.Adam'> and learning rate 0.001\n",
            "Epoch 30/30 completed with validation loss 53.3995\n",
            "\n",
            "lr=0.001, num_epochs=30, val_loss=13.2260\n",
            "\n",
            "Starting epoch 1/10 with optimizer <class 'torch.optim.adam.Adam'> and learning rate 0.0001\n",
            "Epoch 1/10 completed with validation loss 26.1454\n",
            "\n",
            "Starting epoch 2/10 with optimizer <class 'torch.optim.adam.Adam'> and learning rate 0.0001\n",
            "Epoch 2/10 completed with validation loss 2.2976\n",
            "\n",
            "Starting epoch 3/10 with optimizer <class 'torch.optim.adam.Adam'> and learning rate 0.0001\n",
            "Epoch 3/10 completed with validation loss 29.8871\n",
            "\n",
            "Starting epoch 4/10 with optimizer <class 'torch.optim.adam.Adam'> and learning rate 0.0001\n",
            "Epoch 4/10 completed with validation loss 7.1569\n",
            "\n",
            "Starting epoch 5/10 with optimizer <class 'torch.optim.adam.Adam'> and learning rate 0.0001\n",
            "Epoch 5/10 completed with validation loss 14.6111\n",
            "\n",
            "Starting epoch 6/10 with optimizer <class 'torch.optim.adam.Adam'> and learning rate 0.0001\n",
            "Epoch 6/10 completed with validation loss 8.6286\n",
            "\n",
            "Starting epoch 7/10 with optimizer <class 'torch.optim.adam.Adam'> and learning rate 0.0001\n",
            "Epoch 7/10 completed with validation loss 46.5560\n",
            "\n",
            "Starting epoch 8/10 with optimizer <class 'torch.optim.adam.Adam'> and learning rate 0.0001\n",
            "Epoch 8/10 completed with validation loss 7.4231\n",
            "\n",
            "Starting epoch 9/10 with optimizer <class 'torch.optim.adam.Adam'> and learning rate 0.0001\n",
            "Epoch 9/10 completed with validation loss 8.2262\n",
            "\n",
            "Starting epoch 10/10 with optimizer <class 'torch.optim.adam.Adam'> and learning rate 0.0001\n",
            "Epoch 10/10 completed with validation loss 40.0248\n",
            "\n",
            "lr=0.0001, num_epochs=10, val_loss=2.2976\n",
            "\n",
            "Starting epoch 1/20 with optimizer <class 'torch.optim.adam.Adam'> and learning rate 0.0001\n",
            "Epoch 1/20 completed with validation loss 84.0642\n",
            "\n",
            "Starting epoch 2/20 with optimizer <class 'torch.optim.adam.Adam'> and learning rate 0.0001\n",
            "Epoch 2/20 completed with validation loss 30.3074\n",
            "\n",
            "Starting epoch 3/20 with optimizer <class 'torch.optim.adam.Adam'> and learning rate 0.0001\n",
            "Epoch 3/20 completed with validation loss 43.1766\n",
            "\n",
            "Starting epoch 4/20 with optimizer <class 'torch.optim.adam.Adam'> and learning rate 0.0001\n",
            "Epoch 4/20 completed with validation loss 29.8547\n",
            "\n",
            "Starting epoch 5/20 with optimizer <class 'torch.optim.adam.Adam'> and learning rate 0.0001\n",
            "Epoch 5/20 completed with validation loss 2.4406\n",
            "\n",
            "Starting epoch 6/20 with optimizer <class 'torch.optim.adam.Adam'> and learning rate 0.0001\n",
            "Epoch 6/20 completed with validation loss 19.4173\n",
            "\n",
            "Starting epoch 7/20 with optimizer <class 'torch.optim.adam.Adam'> and learning rate 0.0001\n",
            "Epoch 7/20 completed with validation loss 50.2580\n",
            "\n",
            "Starting epoch 8/20 with optimizer <class 'torch.optim.adam.Adam'> and learning rate 0.0001\n",
            "Epoch 8/20 completed with validation loss 11.5540\n",
            "\n",
            "Starting epoch 9/20 with optimizer <class 'torch.optim.adam.Adam'> and learning rate 0.0001\n",
            "Epoch 9/20 completed with validation loss 0.5032\n",
            "\n",
            "Starting epoch 10/20 with optimizer <class 'torch.optim.adam.Adam'> and learning rate 0.0001\n",
            "Epoch 10/20 completed with validation loss 15.1079\n",
            "\n",
            "Starting epoch 11/20 with optimizer <class 'torch.optim.adam.Adam'> and learning rate 0.0001\n",
            "Epoch 11/20 completed with validation loss 45.0222\n",
            "\n",
            "Starting epoch 12/20 with optimizer <class 'torch.optim.adam.Adam'> and learning rate 0.0001\n",
            "Epoch 12/20 completed with validation loss 17.4863\n",
            "\n",
            "Starting epoch 13/20 with optimizer <class 'torch.optim.adam.Adam'> and learning rate 0.0001\n",
            "Epoch 13/20 completed with validation loss 8.3537\n",
            "\n",
            "Starting epoch 14/20 with optimizer <class 'torch.optim.adam.Adam'> and learning rate 0.0001\n",
            "Epoch 14/20 completed with validation loss 52.7385\n",
            "\n",
            "Starting epoch 15/20 with optimizer <class 'torch.optim.adam.Adam'> and learning rate 0.0001\n",
            "Epoch 15/20 completed with validation loss 30.2517\n",
            "\n",
            "Starting epoch 16/20 with optimizer <class 'torch.optim.adam.Adam'> and learning rate 0.0001\n",
            "Epoch 16/20 completed with validation loss 20.0761\n",
            "\n",
            "Starting epoch 17/20 with optimizer <class 'torch.optim.adam.Adam'> and learning rate 0.0001\n",
            "Epoch 17/20 completed with validation loss 5.5832\n",
            "\n",
            "Starting epoch 18/20 with optimizer <class 'torch.optim.adam.Adam'> and learning rate 0.0001\n",
            "Epoch 18/20 completed with validation loss 10.1103\n",
            "\n",
            "Starting epoch 19/20 with optimizer <class 'torch.optim.adam.Adam'> and learning rate 0.0001\n",
            "Epoch 19/20 completed with validation loss 76.0667\n",
            "\n",
            "Starting epoch 20/20 with optimizer <class 'torch.optim.adam.Adam'> and learning rate 0.0001\n",
            "Epoch 20/20 completed with validation loss 4.6269\n",
            "\n",
            "lr=0.0001, num_epochs=20, val_loss=0.5032\n",
            "\n",
            "Starting epoch 1/30 with optimizer <class 'torch.optim.adam.Adam'> and learning rate 0.0001\n",
            "Epoch 1/30 completed with validation loss 36.4072\n",
            "\n",
            "Starting epoch 2/30 with optimizer <class 'torch.optim.adam.Adam'> and learning rate 0.0001\n",
            "Epoch 2/30 completed with validation loss 42.6218\n",
            "\n",
            "Starting epoch 3/30 with optimizer <class 'torch.optim.adam.Adam'> and learning rate 0.0001\n",
            "Epoch 3/30 completed with validation loss 35.5289\n",
            "\n",
            "Starting epoch 4/30 with optimizer <class 'torch.optim.adam.Adam'> and learning rate 0.0001\n",
            "Epoch 4/30 completed with validation loss 78.4561\n",
            "\n",
            "Starting epoch 5/30 with optimizer <class 'torch.optim.adam.Adam'> and learning rate 0.0001\n",
            "Epoch 5/30 completed with validation loss 33.7010\n",
            "\n",
            "Starting epoch 6/30 with optimizer <class 'torch.optim.adam.Adam'> and learning rate 0.0001\n",
            "Epoch 6/30 completed with validation loss 39.0585\n",
            "\n",
            "Starting epoch 7/30 with optimizer <class 'torch.optim.adam.Adam'> and learning rate 0.0001\n",
            "Epoch 7/30 completed with validation loss 12.8740\n",
            "\n",
            "Starting epoch 8/30 with optimizer <class 'torch.optim.adam.Adam'> and learning rate 0.0001\n",
            "Epoch 8/30 completed with validation loss 58.3442\n",
            "\n",
            "Starting epoch 9/30 with optimizer <class 'torch.optim.adam.Adam'> and learning rate 0.0001\n",
            "Epoch 9/30 completed with validation loss 74.4339\n",
            "\n",
            "Starting epoch 10/30 with optimizer <class 'torch.optim.adam.Adam'> and learning rate 0.0001\n",
            "Epoch 10/30 completed with validation loss 21.9767\n",
            "\n",
            "Starting epoch 11/30 with optimizer <class 'torch.optim.adam.Adam'> and learning rate 0.0001\n",
            "Epoch 11/30 completed with validation loss 33.9033\n",
            "\n",
            "Starting epoch 12/30 with optimizer <class 'torch.optim.adam.Adam'> and learning rate 0.0001\n",
            "Epoch 12/30 completed with validation loss 4.2976\n",
            "\n",
            "Starting epoch 13/30 with optimizer <class 'torch.optim.adam.Adam'> and learning rate 0.0001\n",
            "Epoch 13/30 completed with validation loss 2.6289\n",
            "\n",
            "Starting epoch 14/30 with optimizer <class 'torch.optim.adam.Adam'> and learning rate 0.0001\n",
            "Epoch 14/30 completed with validation loss 116.1223\n",
            "\n",
            "Starting epoch 15/30 with optimizer <class 'torch.optim.adam.Adam'> and learning rate 0.0001\n",
            "Epoch 15/30 completed with validation loss 41.1068\n",
            "\n",
            "Starting epoch 16/30 with optimizer <class 'torch.optim.adam.Adam'> and learning rate 0.0001\n",
            "Epoch 16/30 completed with validation loss 24.7592\n",
            "\n",
            "Starting epoch 17/30 with optimizer <class 'torch.optim.adam.Adam'> and learning rate 0.0001\n",
            "Epoch 17/30 completed with validation loss 2.9094\n",
            "\n",
            "Starting epoch 18/30 with optimizer <class 'torch.optim.adam.Adam'> and learning rate 0.0001\n",
            "Epoch 18/30 completed with validation loss 60.3856\n",
            "\n",
            "Starting epoch 19/30 with optimizer <class 'torch.optim.adam.Adam'> and learning rate 0.0001\n",
            "Epoch 19/30 completed with validation loss 136.4500\n",
            "\n",
            "Starting epoch 20/30 with optimizer <class 'torch.optim.adam.Adam'> and learning rate 0.0001\n",
            "Epoch 20/30 completed with validation loss 59.2115\n",
            "\n",
            "Starting epoch 21/30 with optimizer <class 'torch.optim.adam.Adam'> and learning rate 0.0001\n",
            "Epoch 21/30 completed with validation loss 2.3268\n",
            "\n",
            "Starting epoch 22/30 with optimizer <class 'torch.optim.adam.Adam'> and learning rate 0.0001\n",
            "Epoch 22/30 completed with validation loss 32.3534\n",
            "\n",
            "Starting epoch 23/30 with optimizer <class 'torch.optim.adam.Adam'> and learning rate 0.0001\n",
            "Epoch 23/30 completed with validation loss 27.4817\n",
            "\n",
            "Starting epoch 24/30 with optimizer <class 'torch.optim.adam.Adam'> and learning rate 0.0001\n",
            "Epoch 24/30 completed with validation loss 7.5018\n",
            "\n",
            "Starting epoch 25/30 with optimizer <class 'torch.optim.adam.Adam'> and learning rate 0.0001\n",
            "Epoch 25/30 completed with validation loss 63.8962\n",
            "\n",
            "Starting epoch 26/30 with optimizer <class 'torch.optim.adam.Adam'> and learning rate 0.0001\n",
            "Epoch 26/30 completed with validation loss 22.8599\n",
            "\n",
            "Starting epoch 27/30 with optimizer <class 'torch.optim.adam.Adam'> and learning rate 0.0001\n",
            "Epoch 27/30 completed with validation loss 6.3211\n",
            "\n",
            "Starting epoch 28/30 with optimizer <class 'torch.optim.adam.Adam'> and learning rate 0.0001\n",
            "Epoch 28/30 completed with validation loss 47.7186\n",
            "\n",
            "Starting epoch 29/30 with optimizer <class 'torch.optim.adam.Adam'> and learning rate 0.0001\n",
            "Epoch 29/30 completed with validation loss 13.9832\n",
            "\n",
            "Starting epoch 30/30 with optimizer <class 'torch.optim.adam.Adam'> and learning rate 0.0001\n",
            "Epoch 30/30 completed with validation loss 6.5786\n",
            "\n",
            "lr=0.0001, num_epochs=30, val_loss=0.5032\n",
            "\n",
            "Starting epoch 1/10 with optimizer <class 'torch.optim.sgd.SGD'> and learning rate 0.01\n",
            "Epoch 1/10 completed with validation loss 54414777778176.0000\n",
            "\n",
            "Starting epoch 2/10 with optimizer <class 'torch.optim.sgd.SGD'> and learning rate 0.01\n",
            "Epoch 2/10 completed with validation loss 22786152071168.0000\n",
            "\n",
            "Starting epoch 3/10 with optimizer <class 'torch.optim.sgd.SGD'> and learning rate 0.01\n",
            "Epoch 3/10 completed with validation loss 3548318531584.0000\n",
            "\n",
            "Starting epoch 4/10 with optimizer <class 'torch.optim.sgd.SGD'> and learning rate 0.01\n",
            "Epoch 4/10 completed with validation loss 255074156544.0000\n",
            "\n",
            "Starting epoch 5/10 with optimizer <class 'torch.optim.sgd.SGD'> and learning rate 0.01\n",
            "Epoch 5/10 completed with validation loss 248133861376.0000\n",
            "\n",
            "Starting epoch 6/10 with optimizer <class 'torch.optim.sgd.SGD'> and learning rate 0.01\n",
            "Epoch 6/10 completed with validation loss 241220059136.0000\n",
            "\n",
            "Starting epoch 7/10 with optimizer <class 'torch.optim.sgd.SGD'> and learning rate 0.01\n",
            "Epoch 7/10 completed with validation loss 234212458496.0000\n",
            "\n",
            "Starting epoch 8/10 with optimizer <class 'torch.optim.sgd.SGD'> and learning rate 0.01\n",
            "Epoch 8/10 completed with validation loss 227725934592.0000\n",
            "\n",
            "Starting epoch 9/10 with optimizer <class 'torch.optim.sgd.SGD'> and learning rate 0.01\n",
            "Epoch 9/10 completed with validation loss 220734570496.0000\n",
            "\n",
            "Starting epoch 10/10 with optimizer <class 'torch.optim.sgd.SGD'> and learning rate 0.01\n",
            "Epoch 10/10 completed with validation loss 214346743808.0000\n",
            "\n",
            "lr=0.01, num_epochs=10, val_loss=0.5032\n",
            "\n",
            "Starting epoch 1/20 with optimizer <class 'torch.optim.sgd.SGD'> and learning rate 0.01\n",
            "Epoch 1/20 completed with validation loss 207431434240.0000\n",
            "\n",
            "Starting epoch 2/20 with optimizer <class 'torch.optim.sgd.SGD'> and learning rate 0.01\n",
            "Epoch 2/20 completed with validation loss 200440152064.0000\n",
            "\n",
            "Starting epoch 3/20 with optimizer <class 'torch.optim.sgd.SGD'> and learning rate 0.01\n",
            "Epoch 3/20 completed with validation loss 193617084416.0000\n",
            "\n",
            "Starting epoch 4/20 with optimizer <class 'torch.optim.sgd.SGD'> and learning rate 0.01\n",
            "Epoch 4/20 completed with validation loss 186664878080.0000\n",
            "\n",
            "Starting epoch 5/20 with optimizer <class 'torch.optim.sgd.SGD'> and learning rate 0.01\n",
            "Epoch 5/20 completed with validation loss 180333576192.0000\n",
            "\n",
            "Starting epoch 6/20 with optimizer <class 'torch.optim.sgd.SGD'> and learning rate 0.01\n",
            "Epoch 6/20 completed with validation loss 173401456640.0000\n",
            "\n",
            "Starting epoch 7/20 with optimizer <class 'torch.optim.sgd.SGD'> and learning rate 0.01\n",
            "Epoch 7/20 completed with validation loss 166582272000.0000\n",
            "\n",
            "Starting epoch 8/20 with optimizer <class 'torch.optim.sgd.SGD'> and learning rate 0.01\n",
            "Epoch 8/20 completed with validation loss 159763972096.0000\n",
            "\n",
            "Starting epoch 9/20 with optimizer <class 'torch.optim.sgd.SGD'> and learning rate 0.01\n",
            "Epoch 9/20 completed with validation loss 152946491392.0000\n",
            "\n",
            "Starting epoch 10/20 with optimizer <class 'torch.optim.sgd.SGD'> and learning rate 0.01\n",
            "Epoch 10/20 completed with validation loss 145892212736.0000\n",
            "\n",
            "Starting epoch 11/20 with optimizer <class 'torch.optim.sgd.SGD'> and learning rate 0.01\n",
            "Epoch 11/20 completed with validation loss 139193352192.0000\n",
            "\n",
            "Starting epoch 12/20 with optimizer <class 'torch.optim.sgd.SGD'> and learning rate 0.01\n",
            "Epoch 12/20 completed with validation loss 132295147520.0000\n",
            "\n",
            "Starting epoch 13/20 with optimizer <class 'torch.optim.sgd.SGD'> and learning rate 0.01\n",
            "Epoch 13/20 completed with validation loss 125780557824.0000\n",
            "\n",
            "Starting epoch 14/20 with optimizer <class 'torch.optim.sgd.SGD'> and learning rate 0.01\n",
            "Epoch 14/20 completed with validation loss 118917251072.0000\n",
            "\n",
            "Starting epoch 15/20 with optimizer <class 'torch.optim.sgd.SGD'> and learning rate 0.01\n",
            "Epoch 15/20 completed with validation loss 112316121088.0000\n",
            "\n",
            "Starting epoch 16/20 with optimizer <class 'torch.optim.sgd.SGD'> and learning rate 0.01\n",
            "Epoch 16/20 completed with validation loss 105779945472.0000\n",
            "\n",
            "Starting epoch 17/20 with optimizer <class 'torch.optim.sgd.SGD'> and learning rate 0.01\n",
            "Epoch 17/20 completed with validation loss 99014246400.0000\n",
            "\n",
            "Starting epoch 18/20 with optimizer <class 'torch.optim.sgd.SGD'> and learning rate 0.01\n",
            "Epoch 18/20 completed with validation loss 92427436032.0000\n",
            "\n",
            "Starting epoch 19/20 with optimizer <class 'torch.optim.sgd.SGD'> and learning rate 0.01\n",
            "Epoch 19/20 completed with validation loss 85837168640.0000\n",
            "\n",
            "Starting epoch 20/20 with optimizer <class 'torch.optim.sgd.SGD'> and learning rate 0.01\n",
            "Epoch 20/20 completed with validation loss 79113183232.0000\n",
            "\n",
            "lr=0.01, num_epochs=20, val_loss=0.5032\n",
            "\n",
            "Starting epoch 1/30 with optimizer <class 'torch.optim.sgd.SGD'> and learning rate 0.01\n",
            "Epoch 1/30 completed with validation loss 72547155968.0000\n",
            "\n",
            "Starting epoch 2/30 with optimizer <class 'torch.optim.sgd.SGD'> and learning rate 0.01\n",
            "Epoch 2/30 completed with validation loss 66066063360.0000\n",
            "\n",
            "Starting epoch 3/30 with optimizer <class 'torch.optim.sgd.SGD'> and learning rate 0.01\n",
            "Epoch 3/30 completed with validation loss 59500072960.0000\n",
            "\n",
            "Starting epoch 4/30 with optimizer <class 'torch.optim.sgd.SGD'> and learning rate 0.01\n",
            "Epoch 4/30 completed with validation loss 52913643520.0000\n",
            "\n",
            "Starting epoch 5/30 with optimizer <class 'torch.optim.sgd.SGD'> and learning rate 0.01\n",
            "Epoch 5/30 completed with validation loss 46348214272.0000\n",
            "\n",
            "Starting epoch 6/30 with optimizer <class 'torch.optim.sgd.SGD'> and learning rate 0.01\n",
            "Epoch 6/30 completed with validation loss 40187547648.0000\n",
            "\n",
            "Starting epoch 7/30 with optimizer <class 'torch.optim.sgd.SGD'> and learning rate 0.01\n",
            "Epoch 7/30 completed with validation loss 34027081728.0000\n",
            "\n",
            "Starting epoch 8/30 with optimizer <class 'torch.optim.sgd.SGD'> and learning rate 0.01\n",
            "Epoch 8/30 completed with validation loss 27866767360.0000\n",
            "\n",
            "Starting epoch 9/30 with optimizer <class 'torch.optim.sgd.SGD'> and learning rate 0.01\n",
            "Epoch 9/30 completed with validation loss 21706952704.0000\n",
            "\n",
            "Starting epoch 10/30 with optimizer <class 'torch.optim.sgd.SGD'> and learning rate 0.01\n",
            "Epoch 10/30 completed with validation loss 15371929600.0000\n",
            "\n",
            "Starting epoch 11/30 with optimizer <class 'torch.optim.sgd.SGD'> and learning rate 0.01\n",
            "Epoch 11/30 completed with validation loss 9144214528.0000\n",
            "\n",
            "Starting epoch 12/30 with optimizer <class 'torch.optim.sgd.SGD'> and learning rate 0.01\n",
            "Epoch 12/30 completed with validation loss 2800245760.0000\n",
            "\n",
            "Starting epoch 13/30 with optimizer <class 'torch.optim.sgd.SGD'> and learning rate 0.01\n",
            "Epoch 13/30 completed with validation loss 19385.6582\n",
            "\n",
            "Starting epoch 14/30 with optimizer <class 'torch.optim.sgd.SGD'> and learning rate 0.01\n",
            "Epoch 14/30 completed with validation loss 19092.3789\n",
            "\n",
            "Starting epoch 15/30 with optimizer <class 'torch.optim.sgd.SGD'> and learning rate 0.01\n",
            "Epoch 15/30 completed with validation loss 18809.3320\n",
            "\n",
            "Starting epoch 16/30 with optimizer <class 'torch.optim.sgd.SGD'> and learning rate 0.01\n",
            "Epoch 16/30 completed with validation loss 18532.6562\n",
            "\n",
            "Starting epoch 17/30 with optimizer <class 'torch.optim.sgd.SGD'> and learning rate 0.01\n",
            "Epoch 17/30 completed with validation loss 18237.7539\n",
            "\n",
            "Starting epoch 18/30 with optimizer <class 'torch.optim.sgd.SGD'> and learning rate 0.01\n",
            "Epoch 18/30 completed with validation loss 17942.2344\n",
            "\n",
            "Starting epoch 19/30 with optimizer <class 'torch.optim.sgd.SGD'> and learning rate 0.01\n",
            "Epoch 19/30 completed with validation loss 17649.9473\n",
            "\n",
            "Starting epoch 20/30 with optimizer <class 'torch.optim.sgd.SGD'> and learning rate 0.01\n",
            "Epoch 20/30 completed with validation loss 17356.0977\n",
            "\n",
            "Starting epoch 21/30 with optimizer <class 'torch.optim.sgd.SGD'> and learning rate 0.01\n",
            "Epoch 21/30 completed with validation loss 17062.9824\n",
            "\n",
            "Starting epoch 22/30 with optimizer <class 'torch.optim.sgd.SGD'> and learning rate 0.01\n",
            "Epoch 22/30 completed with validation loss 16770.9727\n",
            "\n",
            "Starting epoch 23/30 with optimizer <class 'torch.optim.sgd.SGD'> and learning rate 0.01\n",
            "Epoch 23/30 completed with validation loss 16471.7539\n",
            "\n",
            "Starting epoch 24/30 with optimizer <class 'torch.optim.sgd.SGD'> and learning rate 0.01\n",
            "Epoch 24/30 completed with validation loss 16176.2100\n",
            "\n",
            "Starting epoch 25/30 with optimizer <class 'torch.optim.sgd.SGD'> and learning rate 0.01\n",
            "Epoch 25/30 completed with validation loss 15880.7988\n",
            "\n",
            "Starting epoch 26/30 with optimizer <class 'torch.optim.sgd.SGD'> and learning rate 0.01\n",
            "Epoch 26/30 completed with validation loss 15589.8398\n",
            "\n",
            "Starting epoch 27/30 with optimizer <class 'torch.optim.sgd.SGD'> and learning rate 0.01\n",
            "Epoch 27/30 completed with validation loss 15298.8057\n",
            "\n",
            "Starting epoch 28/30 with optimizer <class 'torch.optim.sgd.SGD'> and learning rate 0.01\n",
            "Epoch 28/30 completed with validation loss 15004.3379\n",
            "\n",
            "Starting epoch 29/30 with optimizer <class 'torch.optim.sgd.SGD'> and learning rate 0.01\n",
            "Epoch 29/30 completed with validation loss 14715.7129\n",
            "\n",
            "Starting epoch 30/30 with optimizer <class 'torch.optim.sgd.SGD'> and learning rate 0.01\n",
            "Epoch 30/30 completed with validation loss 14416.7480\n",
            "\n",
            "lr=0.01, num_epochs=30, val_loss=0.5032\n",
            "\n",
            "Starting epoch 1/10 with optimizer <class 'torch.optim.sgd.SGD'> and learning rate 0.001\n",
            "Epoch 1/10 completed with validation loss 14387.2402\n",
            "\n",
            "Starting epoch 2/10 with optimizer <class 'torch.optim.sgd.SGD'> and learning rate 0.001\n",
            "Epoch 2/10 completed with validation loss 14357.7754\n",
            "\n",
            "Starting epoch 3/10 with optimizer <class 'torch.optim.sgd.SGD'> and learning rate 0.001\n",
            "Epoch 3/10 completed with validation loss 14328.7139\n",
            "\n",
            "Starting epoch 4/10 with optimizer <class 'torch.optim.sgd.SGD'> and learning rate 0.001\n",
            "Epoch 4/10 completed with validation loss 14299.0518\n",
            "\n",
            "Starting epoch 5/10 with optimizer <class 'torch.optim.sgd.SGD'> and learning rate 0.001\n",
            "Epoch 5/10 completed with validation loss 14270.4570\n",
            "\n",
            "Starting epoch 6/10 with optimizer <class 'torch.optim.sgd.SGD'> and learning rate 0.001\n",
            "Epoch 6/10 completed with validation loss 14240.7891\n",
            "\n",
            "Starting epoch 7/10 with optimizer <class 'torch.optim.sgd.SGD'> and learning rate 0.001\n",
            "Epoch 7/10 completed with validation loss 14211.4590\n",
            "\n",
            "Starting epoch 8/10 with optimizer <class 'torch.optim.sgd.SGD'> and learning rate 0.001\n",
            "Epoch 8/10 completed with validation loss 14182.4062\n",
            "\n",
            "Starting epoch 9/10 with optimizer <class 'torch.optim.sgd.SGD'> and learning rate 0.001\n",
            "Epoch 9/10 completed with validation loss 14152.6289\n",
            "\n",
            "Starting epoch 10/10 with optimizer <class 'torch.optim.sgd.SGD'> and learning rate 0.001\n",
            "Epoch 10/10 completed with validation loss 14124.9971\n",
            "\n",
            "lr=0.001, num_epochs=10, val_loss=0.5032\n",
            "\n",
            "Starting epoch 1/20 with optimizer <class 'torch.optim.sgd.SGD'> and learning rate 0.001\n",
            "Epoch 1/20 completed with validation loss 14095.9434\n",
            "\n",
            "Starting epoch 2/20 with optimizer <class 'torch.optim.sgd.SGD'> and learning rate 0.001\n",
            "Epoch 2/20 completed with validation loss 14066.4746\n",
            "\n",
            "Starting epoch 3/20 with optimizer <class 'torch.optim.sgd.SGD'> and learning rate 0.001\n",
            "Epoch 3/20 completed with validation loss 14037.4297\n",
            "\n",
            "Starting epoch 4/20 with optimizer <class 'torch.optim.sgd.SGD'> and learning rate 0.001\n",
            "Epoch 4/20 completed with validation loss 14008.3809\n",
            "\n",
            "Starting epoch 5/20 with optimizer <class 'torch.optim.sgd.SGD'> and learning rate 0.001\n",
            "Epoch 5/20 completed with validation loss 13979.3359\n",
            "\n",
            "Starting epoch 6/20 with optimizer <class 'torch.optim.sgd.SGD'> and learning rate 0.001\n",
            "Epoch 6/20 completed with validation loss 13950.0957\n",
            "\n",
            "Starting epoch 7/20 with optimizer <class 'torch.optim.sgd.SGD'> and learning rate 0.001\n",
            "Epoch 7/20 completed with validation loss 13920.6748\n",
            "\n",
            "Starting epoch 8/20 with optimizer <class 'torch.optim.sgd.SGD'> and learning rate 0.001\n",
            "Epoch 8/20 completed with validation loss 13891.6318\n",
            "\n",
            "Starting epoch 9/20 with optimizer <class 'torch.optim.sgd.SGD'> and learning rate 0.001\n",
            "Epoch 9/20 completed with validation loss 13861.9531\n",
            "\n",
            "Starting epoch 10/20 with optimizer <class 'torch.optim.sgd.SGD'> and learning rate 0.001\n",
            "Epoch 10/20 completed with validation loss 13832.5869\n",
            "\n",
            "Starting epoch 11/20 with optimizer <class 'torch.optim.sgd.SGD'> and learning rate 0.001\n",
            "Epoch 11/20 completed with validation loss 13803.5498\n",
            "\n",
            "Starting epoch 12/20 with optimizer <class 'torch.optim.sgd.SGD'> and learning rate 0.001\n",
            "Epoch 12/20 completed with validation loss 13773.5703\n",
            "\n",
            "Starting epoch 13/20 with optimizer <class 'torch.optim.sgd.SGD'> and learning rate 0.001\n",
            "Epoch 13/20 completed with validation loss 13744.5352\n",
            "\n",
            "Starting epoch 14/20 with optimizer <class 'torch.optim.sgd.SGD'> and learning rate 0.001\n",
            "Epoch 14/20 completed with validation loss 13715.5000\n",
            "\n",
            "Starting epoch 15/20 with optimizer <class 'torch.optim.sgd.SGD'> and learning rate 0.001\n",
            "Epoch 15/20 completed with validation loss 13685.7754\n",
            "\n",
            "Starting epoch 16/20 with optimizer <class 'torch.optim.sgd.SGD'> and learning rate 0.001\n",
            "Epoch 16/20 completed with validation loss 13656.9688\n",
            "\n",
            "Starting epoch 17/20 with optimizer <class 'torch.optim.sgd.SGD'> and learning rate 0.001\n",
            "Epoch 17/20 completed with validation loss 13627.9355\n",
            "\n",
            "Starting epoch 18/20 with optimizer <class 'torch.optim.sgd.SGD'> and learning rate 0.001\n",
            "Epoch 18/20 completed with validation loss 13597.8477\n",
            "\n",
            "Starting epoch 19/20 with optimizer <class 'torch.optim.sgd.SGD'> and learning rate 0.001\n",
            "Epoch 19/20 completed with validation loss 13568.8164\n",
            "\n",
            "Starting epoch 20/20 with optimizer <class 'torch.optim.sgd.SGD'> and learning rate 0.001\n",
            "Epoch 20/20 completed with validation loss 13540.4395\n",
            "\n",
            "lr=0.001, num_epochs=20, val_loss=0.5032\n",
            "\n",
            "Starting epoch 1/30 with optimizer <class 'torch.optim.sgd.SGD'> and learning rate 0.001\n",
            "Epoch 1/30 completed with validation loss 13511.0205\n",
            "\n",
            "Starting epoch 2/30 with optimizer <class 'torch.optim.sgd.SGD'> and learning rate 0.001\n",
            "Epoch 2/30 completed with validation loss 13481.9922\n",
            "\n",
            "Starting epoch 3/30 with optimizer <class 'torch.optim.sgd.SGD'> and learning rate 0.001\n",
            "Epoch 3/30 completed with validation loss 13452.9648\n",
            "\n",
            "Starting epoch 4/30 with optimizer <class 'torch.optim.sgd.SGD'> and learning rate 0.001\n",
            "Epoch 4/30 completed with validation loss 13423.9414\n",
            "\n",
            "Starting epoch 5/30 with optimizer <class 'torch.optim.sgd.SGD'> and learning rate 0.001\n",
            "Epoch 5/30 completed with validation loss 13394.6006\n",
            "\n",
            "Starting epoch 6/30 with optimizer <class 'torch.optim.sgd.SGD'> and learning rate 0.001\n",
            "Epoch 6/30 completed with validation loss 13365.5811\n",
            "\n",
            "Starting epoch 7/30 with optimizer <class 'torch.optim.sgd.SGD'> and learning rate 0.001\n",
            "Epoch 7/30 completed with validation loss 13336.0566\n",
            "\n",
            "Starting epoch 8/30 with optimizer <class 'torch.optim.sgd.SGD'> and learning rate 0.001\n",
            "Epoch 8/30 completed with validation loss 13307.3193\n",
            "\n",
            "Starting epoch 9/30 with optimizer <class 'torch.optim.sgd.SGD'> and learning rate 0.001\n",
            "Epoch 9/30 completed with validation loss 13280.0752\n",
            "\n",
            "Starting epoch 10/30 with optimizer <class 'torch.optim.sgd.SGD'> and learning rate 0.001\n",
            "Epoch 10/30 completed with validation loss 13251.0566\n",
            "\n",
            "Starting epoch 11/30 with optimizer <class 'torch.optim.sgd.SGD'> and learning rate 0.001\n",
            "Epoch 11/30 completed with validation loss 13221.3389\n",
            "\n",
            "Starting epoch 12/30 with optimizer <class 'torch.optim.sgd.SGD'> and learning rate 0.001\n",
            "Epoch 12/30 completed with validation loss 13192.3203\n",
            "\n",
            "Starting epoch 13/30 with optimizer <class 'torch.optim.sgd.SGD'> and learning rate 0.001\n",
            "Epoch 13/30 completed with validation loss 13162.7354\n",
            "\n",
            "Starting epoch 14/30 with optimizer <class 'torch.optim.sgd.SGD'> and learning rate 0.001\n",
            "Epoch 14/30 completed with validation loss 13133.7207\n",
            "\n",
            "Starting epoch 15/30 with optimizer <class 'torch.optim.sgd.SGD'> and learning rate 0.001\n",
            "Epoch 15/30 completed with validation loss 13104.7090\n",
            "\n",
            "Starting epoch 16/30 with optimizer <class 'torch.optim.sgd.SGD'> and learning rate 0.001\n",
            "Epoch 16/30 completed with validation loss 13075.8613\n",
            "\n",
            "Starting epoch 17/30 with optimizer <class 'torch.optim.sgd.SGD'> and learning rate 0.001\n",
            "Epoch 17/30 completed with validation loss 13046.1602\n",
            "\n",
            "Starting epoch 18/30 with optimizer <class 'torch.optim.sgd.SGD'> and learning rate 0.001\n",
            "Epoch 18/30 completed with validation loss 13017.1475\n",
            "\n",
            "Starting epoch 19/30 with optimizer <class 'torch.optim.sgd.SGD'> and learning rate 0.001\n",
            "Epoch 19/30 completed with validation loss 12988.1406\n",
            "\n",
            "Starting epoch 20/30 with optimizer <class 'torch.optim.sgd.SGD'> and learning rate 0.001\n",
            "Epoch 20/30 completed with validation loss 12958.1797\n",
            "\n",
            "Starting epoch 21/30 with optimizer <class 'torch.optim.sgd.SGD'> and learning rate 0.001\n",
            "Epoch 21/30 completed with validation loss 12928.8955\n",
            "\n",
            "Starting epoch 22/30 with optimizer <class 'torch.optim.sgd.SGD'> and learning rate 0.001\n",
            "Epoch 22/30 completed with validation loss 12900.4316\n",
            "\n",
            "Starting epoch 23/30 with optimizer <class 'torch.optim.sgd.SGD'> and learning rate 0.001\n",
            "Epoch 23/30 completed with validation loss 12871.1465\n",
            "\n",
            "Starting epoch 24/30 with optimizer <class 'torch.optim.sgd.SGD'> and learning rate 0.001\n",
            "Epoch 24/30 completed with validation loss 12841.1602\n",
            "\n",
            "Starting epoch 25/30 with optimizer <class 'torch.optim.sgd.SGD'> and learning rate 0.001\n",
            "Epoch 25/30 completed with validation loss 12811.8184\n",
            "\n",
            "Starting epoch 26/30 with optimizer <class 'torch.optim.sgd.SGD'> and learning rate 0.001\n",
            "Epoch 26/30 completed with validation loss 12785.3477\n",
            "\n",
            "Starting epoch 27/30 with optimizer <class 'torch.optim.sgd.SGD'> and learning rate 0.001\n",
            "Epoch 27/30 completed with validation loss 12756.3428\n",
            "\n",
            "Starting epoch 28/30 with optimizer <class 'torch.optim.sgd.SGD'> and learning rate 0.001\n",
            "Epoch 28/30 completed with validation loss 12727.0469\n",
            "\n",
            "Starting epoch 29/30 with optimizer <class 'torch.optim.sgd.SGD'> and learning rate 0.001\n",
            "Epoch 29/30 completed with validation loss 12698.0449\n",
            "\n",
            "Starting epoch 30/30 with optimizer <class 'torch.optim.sgd.SGD'> and learning rate 0.001\n",
            "Epoch 30/30 completed with validation loss 12668.7266\n",
            "\n",
            "lr=0.001, num_epochs=30, val_loss=0.5032\n",
            "\n",
            "Starting epoch 1/10 with optimizer <class 'torch.optim.sgd.SGD'> and learning rate 0.0001\n",
            "Epoch 1/10 completed with validation loss 12665.7949\n",
            "\n",
            "Starting epoch 2/10 with optimizer <class 'torch.optim.sgd.SGD'> and learning rate 0.0001\n",
            "Epoch 2/10 completed with validation loss 12662.8945\n",
            "\n",
            "Starting epoch 3/10 with optimizer <class 'torch.optim.sgd.SGD'> and learning rate 0.0001\n",
            "Epoch 3/10 completed with validation loss 12659.9746\n",
            "\n",
            "Starting epoch 4/10 with optimizer <class 'torch.optim.sgd.SGD'> and learning rate 0.0001\n",
            "Epoch 4/10 completed with validation loss 12657.0742\n",
            "\n",
            "Starting epoch 5/10 with optimizer <class 'torch.optim.sgd.SGD'> and learning rate 0.0001\n",
            "Epoch 5/10 completed with validation loss 12654.1465\n",
            "\n",
            "Starting epoch 6/10 with optimizer <class 'torch.optim.sgd.SGD'> and learning rate 0.0001\n",
            "Epoch 6/10 completed with validation loss 12651.2480\n",
            "\n",
            "Starting epoch 7/10 with optimizer <class 'torch.optim.sgd.SGD'> and learning rate 0.0001\n",
            "Epoch 7/10 completed with validation loss 12648.3477\n",
            "\n",
            "Starting epoch 8/10 with optimizer <class 'torch.optim.sgd.SGD'> and learning rate 0.0001\n",
            "Epoch 8/10 completed with validation loss 12645.3516\n",
            "\n",
            "Starting epoch 9/10 with optimizer <class 'torch.optim.sgd.SGD'> and learning rate 0.0001\n",
            "Epoch 9/10 completed with validation loss 12642.4189\n",
            "\n",
            "Starting epoch 10/10 with optimizer <class 'torch.optim.sgd.SGD'> and learning rate 0.0001\n",
            "Epoch 10/10 completed with validation loss 12639.4160\n",
            "\n",
            "lr=0.0001, num_epochs=10, val_loss=0.5032\n",
            "\n",
            "Starting epoch 1/20 with optimizer <class 'torch.optim.sgd.SGD'> and learning rate 0.0001\n",
            "Epoch 1/20 completed with validation loss 12636.5156\n",
            "\n",
            "Starting epoch 2/20 with optimizer <class 'torch.optim.sgd.SGD'> and learning rate 0.0001\n",
            "Epoch 2/20 completed with validation loss 12633.6152\n",
            "\n",
            "Starting epoch 3/20 with optimizer <class 'torch.optim.sgd.SGD'> and learning rate 0.0001\n",
            "Epoch 3/20 completed with validation loss 12630.7168\n",
            "\n",
            "Starting epoch 4/20 with optimizer <class 'torch.optim.sgd.SGD'> and learning rate 0.0001\n",
            "Epoch 4/20 completed with validation loss 12627.7285\n",
            "\n",
            "Starting epoch 5/20 with optimizer <class 'torch.optim.sgd.SGD'> and learning rate 0.0001\n",
            "Epoch 5/20 completed with validation loss 12624.7988\n",
            "\n",
            "Starting epoch 6/20 with optimizer <class 'torch.optim.sgd.SGD'> and learning rate 0.0001\n",
            "Epoch 6/20 completed with validation loss 12621.8984\n",
            "\n",
            "Starting epoch 7/20 with optimizer <class 'torch.optim.sgd.SGD'> and learning rate 0.0001\n",
            "Epoch 7/20 completed with validation loss 12618.8945\n",
            "\n",
            "Starting epoch 8/20 with optimizer <class 'torch.optim.sgd.SGD'> and learning rate 0.0001\n",
            "Epoch 8/20 completed with validation loss 12615.9941\n",
            "\n",
            "Starting epoch 9/20 with optimizer <class 'torch.optim.sgd.SGD'> and learning rate 0.0001\n",
            "Epoch 9/20 completed with validation loss 12612.9863\n",
            "\n",
            "Starting epoch 10/20 with optimizer <class 'torch.optim.sgd.SGD'> and learning rate 0.0001\n",
            "Epoch 10/20 completed with validation loss 12610.0518\n",
            "\n",
            "Starting epoch 11/20 with optimizer <class 'torch.optim.sgd.SGD'> and learning rate 0.0001\n",
            "Epoch 11/20 completed with validation loss 12607.0928\n",
            "\n",
            "Starting epoch 12/20 with optimizer <class 'torch.optim.sgd.SGD'> and learning rate 0.0001\n",
            "Epoch 12/20 completed with validation loss 12604.1621\n",
            "\n",
            "Starting epoch 13/20 with optimizer <class 'torch.optim.sgd.SGD'> and learning rate 0.0001\n",
            "Epoch 13/20 completed with validation loss 12601.2344\n",
            "\n",
            "Starting epoch 14/20 with optimizer <class 'torch.optim.sgd.SGD'> and learning rate 0.0001\n",
            "Epoch 14/20 completed with validation loss 12598.3037\n",
            "\n",
            "Starting epoch 15/20 with optimizer <class 'torch.optim.sgd.SGD'> and learning rate 0.0001\n",
            "Epoch 15/20 completed with validation loss 12595.3613\n",
            "\n",
            "Starting epoch 16/20 with optimizer <class 'torch.optim.sgd.SGD'> and learning rate 0.0001\n",
            "Epoch 16/20 completed with validation loss 12592.4297\n",
            "\n",
            "Starting epoch 17/20 with optimizer <class 'torch.optim.sgd.SGD'> and learning rate 0.0001\n",
            "Epoch 17/20 completed with validation loss 12589.5293\n",
            "\n",
            "Starting epoch 18/20 with optimizer <class 'torch.optim.sgd.SGD'> and learning rate 0.0001\n",
            "Epoch 18/20 completed with validation loss 12586.5449\n",
            "\n",
            "Starting epoch 19/20 with optimizer <class 'torch.optim.sgd.SGD'> and learning rate 0.0001\n",
            "Epoch 19/20 completed with validation loss 12583.5713\n",
            "\n",
            "Starting epoch 20/20 with optimizer <class 'torch.optim.sgd.SGD'> and learning rate 0.0001\n",
            "Epoch 20/20 completed with validation loss 12580.6729\n",
            "\n",
            "lr=0.0001, num_epochs=20, val_loss=0.5032\n",
            "\n",
            "Starting epoch 1/30 with optimizer <class 'torch.optim.sgd.SGD'> and learning rate 0.0001\n",
            "Epoch 1/30 completed with validation loss 12577.7090\n",
            "\n",
            "Starting epoch 2/30 with optimizer <class 'torch.optim.sgd.SGD'> and learning rate 0.0001\n",
            "Epoch 2/30 completed with validation loss 12574.7480\n",
            "\n",
            "Starting epoch 3/30 with optimizer <class 'torch.optim.sgd.SGD'> and learning rate 0.0001\n",
            "Epoch 3/30 completed with validation loss 12571.8213\n",
            "\n",
            "Starting epoch 4/30 with optimizer <class 'torch.optim.sgd.SGD'> and learning rate 0.0001\n",
            "Epoch 4/30 completed with validation loss 12568.8848\n",
            "\n",
            "Starting epoch 5/30 with optimizer <class 'torch.optim.sgd.SGD'> and learning rate 0.0001\n",
            "Epoch 5/30 completed with validation loss 12565.9590\n",
            "\n",
            "Starting epoch 6/30 with optimizer <class 'torch.optim.sgd.SGD'> and learning rate 0.0001\n",
            "Epoch 6/30 completed with validation loss 12563.0010\n",
            "\n",
            "Starting epoch 7/30 with optimizer <class 'torch.optim.sgd.SGD'> and learning rate 0.0001\n",
            "Epoch 7/30 completed with validation loss 12560.0645\n",
            "\n",
            "Starting epoch 8/30 with optimizer <class 'torch.optim.sgd.SGD'> and learning rate 0.0001\n",
            "Epoch 8/30 completed with validation loss 12557.1387\n",
            "\n",
            "Starting epoch 9/30 with optimizer <class 'torch.optim.sgd.SGD'> and learning rate 0.0001\n",
            "Epoch 9/30 completed with validation loss 12554.2451\n",
            "\n",
            "Starting epoch 10/30 with optimizer <class 'torch.optim.sgd.SGD'> and learning rate 0.0001\n",
            "Epoch 10/30 completed with validation loss 12551.3164\n",
            "\n",
            "Starting epoch 11/30 with optimizer <class 'torch.optim.sgd.SGD'> and learning rate 0.0001\n",
            "Epoch 11/30 completed with validation loss 12548.3789\n",
            "\n",
            "Starting epoch 12/30 with optimizer <class 'torch.optim.sgd.SGD'> and learning rate 0.0001\n",
            "Epoch 12/30 completed with validation loss 12545.4492\n",
            "\n",
            "Starting epoch 13/30 with optimizer <class 'torch.optim.sgd.SGD'> and learning rate 0.0001\n",
            "Epoch 13/30 completed with validation loss 12542.4531\n",
            "\n",
            "Starting epoch 14/30 with optimizer <class 'torch.optim.sgd.SGD'> and learning rate 0.0001\n",
            "Epoch 14/30 completed with validation loss 12539.5518\n",
            "\n",
            "Starting epoch 15/30 with optimizer <class 'torch.optim.sgd.SGD'> and learning rate 0.0001\n",
            "Epoch 15/30 completed with validation loss 12536.6533\n",
            "\n",
            "Starting epoch 16/30 with optimizer <class 'torch.optim.sgd.SGD'> and learning rate 0.0001\n",
            "Epoch 16/30 completed with validation loss 12533.7188\n",
            "\n",
            "Starting epoch 17/30 with optimizer <class 'torch.optim.sgd.SGD'> and learning rate 0.0001\n",
            "Epoch 17/30 completed with validation loss 12530.8184\n",
            "\n",
            "Starting epoch 18/30 with optimizer <class 'torch.optim.sgd.SGD'> and learning rate 0.0001\n",
            "Epoch 18/30 completed with validation loss 12527.9170\n",
            "\n",
            "Starting epoch 19/30 with optimizer <class 'torch.optim.sgd.SGD'> and learning rate 0.0001\n",
            "Epoch 19/30 completed with validation loss 12525.0186\n",
            "\n",
            "Starting epoch 20/30 with optimizer <class 'torch.optim.sgd.SGD'> and learning rate 0.0001\n",
            "Epoch 20/30 completed with validation loss 12522.1201\n",
            "\n",
            "Starting epoch 21/30 with optimizer <class 'torch.optim.sgd.SGD'> and learning rate 0.0001\n",
            "Epoch 21/30 completed with validation loss 12519.2207\n",
            "\n",
            "Starting epoch 22/30 with optimizer <class 'torch.optim.sgd.SGD'> and learning rate 0.0001\n",
            "Epoch 22/30 completed with validation loss 12516.3223\n",
            "\n",
            "Starting epoch 23/30 with optimizer <class 'torch.optim.sgd.SGD'> and learning rate 0.0001\n",
            "Epoch 23/30 completed with validation loss 12513.2998\n",
            "\n",
            "Starting epoch 24/30 with optimizer <class 'torch.optim.sgd.SGD'> and learning rate 0.0001\n",
            "Epoch 24/30 completed with validation loss 12510.2637\n",
            "\n",
            "Starting epoch 25/30 with optimizer <class 'torch.optim.sgd.SGD'> and learning rate 0.0001\n",
            "Epoch 25/30 completed with validation loss 12507.3770\n",
            "\n",
            "Starting epoch 26/30 with optimizer <class 'torch.optim.sgd.SGD'> and learning rate 0.0001\n",
            "Epoch 26/30 completed with validation loss 12504.4111\n",
            "\n",
            "Starting epoch 27/30 with optimizer <class 'torch.optim.sgd.SGD'> and learning rate 0.0001\n",
            "Epoch 27/30 completed with validation loss 12501.4805\n",
            "\n",
            "Starting epoch 28/30 with optimizer <class 'torch.optim.sgd.SGD'> and learning rate 0.0001\n",
            "Epoch 28/30 completed with validation loss 12498.5410\n",
            "\n",
            "Starting epoch 29/30 with optimizer <class 'torch.optim.sgd.SGD'> and learning rate 0.0001\n",
            "Epoch 29/30 completed with validation loss 12495.5713\n",
            "\n",
            "Starting epoch 30/30 with optimizer <class 'torch.optim.sgd.SGD'> and learning rate 0.0001\n",
            "Epoch 30/30 completed with validation loss 12492.6719\n",
            "\n",
            "lr=0.0001, num_epochs=30, val_loss=0.5032\n"
          ]
        },
        {
          "data": {
            "text/plain": [
              "{'optimizer': torch.optim.sgd.SGD,\n",
              " 'lr': 0.0001,\n",
              " 'num_epochs': 30,\n",
              " 'model': ImprovedWW2TempPreidictionModel(\n",
              "   (linear1): Linear(in_features=5, out_features=16, bias=True)\n",
              "   (linear2): Linear(in_features=16, out_features=1, bias=True)\n",
              " )}"
            ]
          },
          "execution_count": 60,
          "metadata": {},
          "output_type": "execute_result"
        }
      ],
      "source": [
        "\n",
        "optimizers = [torch.optim.Adam, torch.optim.SGD]\n",
        "\n",
        "\n",
        "lr = [0.01, 0.001, 0.0001]\n",
        "\n",
        "\n",
        "epochs = [10, 20, 30]\n",
        "\n",
        "\n",
        "grid_search(ImprovedWW2TempPreidictionModel(5,16,1), train_loader, val_loader, optimizers, lr, epochs)\n"
      ]
    },
    {
      "cell_type": "code",
      "execution_count": null,
      "metadata": {
        "colab": {
          "base_uri": "https://localhost:8080/"
        },
        "id": "3pzszlZSRpqt",
        "outputId": "bfa8ce9c-d4c2-458b-9359-192cc056f387"
      },
      "outputs": [
        {
          "name": "stdout",
          "output_type": "stream",
          "text": [
            "\n",
            "Starting epoch 1/10 with optimizer <class 'torch.optim.adam.Adam'> and learning rate 0.01\n",
            "Epoch 1/10 completed with validation loss 3926.9277\n",
            "\n",
            "Starting epoch 2/10 with optimizer <class 'torch.optim.adam.Adam'> and learning rate 0.01\n",
            "Epoch 2/10 completed with validation loss 6126.0034\n",
            "\n",
            "Starting epoch 3/10 with optimizer <class 'torch.optim.adam.Adam'> and learning rate 0.01\n",
            "Epoch 3/10 completed with validation loss 561.4361\n",
            "\n",
            "Starting epoch 4/10 with optimizer <class 'torch.optim.adam.Adam'> and learning rate 0.01\n",
            "Epoch 4/10 completed with validation loss 3384.0186\n",
            "\n",
            "Starting epoch 5/10 with optimizer <class 'torch.optim.adam.Adam'> and learning rate 0.01\n"
          ]
        }
      ],
      "source": [
        "from re import finditer\n",
        "\n",
        "import ast\n",
        "\n",
        "optimizers = [torch.optim.Adam, torch.optim.SGD]\n",
        "\n",
        "\n",
        "#lr = [0.01, 0.001, 0.0001]\n",
        "lr = [0.01, 0.001]\n",
        "epochs = [10, 20]\n",
        "\n",
        "#epochs = [10, 20, 30]\n",
        "\n",
        "results = grid_search(ImprovedWW2TempPreidictionModel(5,16,1), train_loader, val_loader, optimizers, lr, epochs)\n",
        "#results = sorted(results, key=lambda x: x.get('val_loss'))\n",
        "#best_result = results[0]\n",
        "\n",
        "best_optimizer = results['optimizer']\n",
        "best_lr = results['lr']\n",
        "best_epochs = results['num_epochs']\n",
        "\n",
        "model = ImprovedWW2TempPreidictionModel(5, 16, 1)\n",
        "\n",
        "optimizer = best_optimizer(model.parameters(), lr=best_lr)\n",
        "fit(model, train_loader, val_loader, optimizer, best_epochs)\n",
        "\n",
        "# results = grid_search(ImprovedWW2TempPreidictionModel(5,16,1), train_loader, val_loader, optimizers, lr, epochs)\n",
        "# results = [ast.literal_eval(result) for result in results]\n",
        "# print(results)\n",
        "# results = sorted(results, key=lambda x: x.get('val_loss', float(\"inf\")))\n",
        "# best_result = results[0]\n",
        "\n",
        "\n",
        "# best_optimizer = best_result['optimizer']\n",
        "# best_lr = best_result['lr']\n",
        "# best_epochs = best_result['num_epochs']\n",
        "# best_model = best_result['model']\n",
        "\n",
        "\n",
        "# model = WW2TempPredictionModel()\n",
        "# optimizer = best_optimizer(model.parameters(), lr=best_lr)\n",
        "# fit(model, train_loader, val_loader, optimizer, best_epochs)\n"
      ]
    },
    {
      "cell_type": "code",
      "execution_count": null,
      "metadata": {
        "id": "orC5fg8aspUy"
      },
      "outputs": [],
      "source": [
        "print(results)"
      ]
    },
    {
      "cell_type": "code",
      "execution_count": null,
      "metadata": {
        "id": "y-1lbUMN6TBx"
      },
      "outputs": [],
      "source": [
        "!pip install flask-ngrok"
      ]
    },
    {
      "cell_type": "code",
      "execution_count": null,
      "metadata": {
        "id": "Q9PlpVeC8DFz"
      },
      "outputs": [],
      "source": [
        "!pip install pyngrok"
      ]
    },
    {
      "cell_type": "code",
      "execution_count": null,
      "metadata": {
        "id": "F3kkDHi27wCt"
      },
      "outputs": [],
      "source": [
        "!ngrok authtoken 2Ln8bQZ0YQsLtjTkMc6KFBHG5fT_Caqbm5GDWEe3rVRtL5Dc"
      ]
    },
    {
      "cell_type": "code",
      "execution_count": null,
      "metadata": {
        "id": "tjINYag8AbvW"
      },
      "outputs": [],
      "source": [
        "uploaded = files.upload()"
      ]
    },
    {
      "cell_type": "code",
      "execution_count": null,
      "metadata": {
        "colab": {
          "background_save": true
        },
        "id": "p-hlxWDE6ZJW"
      },
      "outputs": [],
      "source": [
        "\n",
        "from flask import Flask, render_template, request\n",
        "from flask_ngrok import run_with_ngrok\n",
        "app = Flask(__name__)\n",
        "run_with_ngrok(app)\n",
        "\n",
        "model = ImprovedWW2TempPreidictionModel(input_dim=5, hidden_dim=16, output_dim=1)\n",
        "model.load_state_dict(torch.load('/content/improved_model.pth'))\n",
        "\n",
        "@app.route(\"/\")\n",
        "def home():\n",
        "    return render_template('index.html')\n",
        "\n",
        "\n",
        "@app.route('/predict',methods=['POST'])\n",
        "def predict():\n",
        "    precip = int(request.form[\"precip\"])\n",
        "    mintemp = int(request.form[\"mintemp\"])\n",
        "    meantemp = int(request.form[\"meantemp\"])\n",
        "    snowfall = int(request.form[\"snowfall\"])\n",
        "    poorweather = int(request.form[\"poorweather\"])\n",
        "    prediction = model.predict([[precip, mintemp, meantemp, snowfall, poorweather]])\n",
        "    output = round(prediction[0], 2)\n",
        "\n",
        "    return render_template('/content/index.html', prediction_text=f'The maximum temperature with the given input variables can be ${output}')\n",
        "\n",
        "\n",
        "\n",
        "\n",
        "app.run()"
      ]
    }
  ],
  "metadata": {
    "colab": {
      "provenance": []
    },
    "kernelspec": {
      "display_name": "Python 3",
      "name": "python3"
    },
    "language_info": {
      "name": "python"
    }
  },
  "nbformat": 4,
  "nbformat_minor": 0
}